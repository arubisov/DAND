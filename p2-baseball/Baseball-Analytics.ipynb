{
 "cells": [
  {
   "cell_type": "markdown",
   "metadata": {},
   "source": [
    "# Investigating the Baseball Dataset\n",
    "\n",
    "## Background Information\n",
    "\n",
    "The Lahman Baseball Database, available <a href=\"http://www.seanlahman.com/baseball-archive/statistics/\">here</a>, contains pitching, hitting, and fielding statistics for Major League Baseball from 1871 through 2014.  It includes data from the two current leagues (American and National), the four other \"major\" leagues (American Association, Union Association, Players League, and Federal League), and the National Association of 1871-1875. The database was created by Sean Lahman in 1994, in an effort to create an openly-available repository of baseball statistics.\n",
    "\n",
    "## Question To Investigate\n",
    "\n",
    "### What are the factors affecting a baseball player's lifespan?\n",
    "The Lahman DB contains a Master.csv file, whose documentation reads:\n",
    "\n",
    "<code>2.1 MASTER table\n",
    "\n",
    "\n",
    "playerID       A unique code asssigned to each player.  The playerID links\n",
    "                 the data in this file with records in the other files.\n",
    "birthYear      Year player was born\n",
    "birthMonth     Month player was born\n",
    "birthDay       Day player was born\n",
    "birthCountry   Country where player was born\n",
    "birthState     State where player was born\n",
    "birthCity      City where player was born\n",
    "deathYear      Year player died\n",
    "deathMonth     Month player died\n",
    "deathDay       Day player died\n",
    "deathCountry   Country where player died\n",
    "deathState     State where player died\n",
    "deathCity      City where player died\n",
    "  ...                  ... </code>"
   ]
  },
  {
   "cell_type": "code",
   "execution_count": 2,
   "metadata": {
    "collapsed": false
   },
   "outputs": [
    {
     "data": {
      "text/plain": [
       "9336"
      ]
     },
     "execution_count": 2,
     "metadata": {},
     "output_type": "execute_result"
    }
   ],
   "source": [
    "import pandas as pd\n",
    "import numpy as np\n",
    "df_master = pd.read_csv('core/Master.csv')\n",
    "df_master[df_master.deathYear.notnull()]['deathYear'].count()"
   ]
  },
  {
   "cell_type": "markdown",
   "metadata": {},
   "source": [
    "Thus there are 9336 potential athletes for whom we can examine their longevity, and investigate several independent variables looking for statistically significant variation. \n",
    "\n",
    "**Questions to Explore**: For this project, I will be exploring whether there are sport-specific variables that significantly affect the longevity of a player. In particular, I will consider whether salary, teams for which a player has played, induction into the Hall of Fame, and number of World Series won affect longevity."
   ]
  },
  {
   "cell_type": "markdown",
   "metadata": {},
   "source": [
    "## Data Wrangling\n",
    "Since we want to look at a player's age upon death, first we'll examine the data of player longevity that we have, in order to verify that the data is clean and that missing values are handled appropriately."
   ]
  },
  {
   "cell_type": "code",
   "execution_count": 3,
   "metadata": {
    "collapsed": false
   },
   "outputs": [
    {
     "name": "stderr",
     "output_type": "stream",
     "text": [
      "/home/anton/anaconda3/lib/python3.5/site-packages/numpy/lib/function_base.py:3834: RuntimeWarning: Invalid value encountered in percentile\n",
      "  RuntimeWarning)\n"
     ]
    },
    {
     "data": {
      "text/html": [
       "<div>\n",
       "<table border=\"1\" class=\"dataframe\">\n",
       "  <thead>\n",
       "    <tr style=\"text-align: right;\">\n",
       "      <th></th>\n",
       "      <th>birthYear</th>\n",
       "      <th>birthMonth</th>\n",
       "      <th>birthDay</th>\n",
       "      <th>deathYear</th>\n",
       "      <th>deathMonth</th>\n",
       "      <th>deathDay</th>\n",
       "      <th>weight</th>\n",
       "      <th>height</th>\n",
       "    </tr>\n",
       "  </thead>\n",
       "  <tbody>\n",
       "    <tr>\n",
       "      <th>count</th>\n",
       "      <td>9327.000000</td>\n",
       "      <td>9180.000000</td>\n",
       "      <td>9041.000000</td>\n",
       "      <td>9336.000000</td>\n",
       "      <td>9335.000000</td>\n",
       "      <td>9334.000000</td>\n",
       "      <td>8608.000000</td>\n",
       "      <td>8675.000000</td>\n",
       "    </tr>\n",
       "    <tr>\n",
       "      <th>mean</th>\n",
       "      <td>1895.843144</td>\n",
       "      <td>6.612527</td>\n",
       "      <td>15.518637</td>\n",
       "      <td>1963.850364</td>\n",
       "      <td>6.484092</td>\n",
       "      <td>15.570281</td>\n",
       "      <td>175.986176</td>\n",
       "      <td>71.090144</td>\n",
       "    </tr>\n",
       "    <tr>\n",
       "      <th>std</th>\n",
       "      <td>25.242584</td>\n",
       "      <td>3.478049</td>\n",
       "      <td>8.756774</td>\n",
       "      <td>31.506369</td>\n",
       "      <td>3.528685</td>\n",
       "      <td>8.778580</td>\n",
       "      <td>16.276167</td>\n",
       "      <td>2.398589</td>\n",
       "    </tr>\n",
       "    <tr>\n",
       "      <th>min</th>\n",
       "      <td>1820.000000</td>\n",
       "      <td>1.000000</td>\n",
       "      <td>1.000000</td>\n",
       "      <td>1872.000000</td>\n",
       "      <td>1.000000</td>\n",
       "      <td>1.000000</td>\n",
       "      <td>65.000000</td>\n",
       "      <td>43.000000</td>\n",
       "    </tr>\n",
       "    <tr>\n",
       "      <th>25%</th>\n",
       "      <td>NaN</td>\n",
       "      <td>NaN</td>\n",
       "      <td>NaN</td>\n",
       "      <td>1942.000000</td>\n",
       "      <td>NaN</td>\n",
       "      <td>NaN</td>\n",
       "      <td>NaN</td>\n",
       "      <td>NaN</td>\n",
       "    </tr>\n",
       "    <tr>\n",
       "      <th>50%</th>\n",
       "      <td>NaN</td>\n",
       "      <td>NaN</td>\n",
       "      <td>NaN</td>\n",
       "      <td>1966.000000</td>\n",
       "      <td>NaN</td>\n",
       "      <td>NaN</td>\n",
       "      <td>NaN</td>\n",
       "      <td>NaN</td>\n",
       "    </tr>\n",
       "    <tr>\n",
       "      <th>75%</th>\n",
       "      <td>NaN</td>\n",
       "      <td>NaN</td>\n",
       "      <td>NaN</td>\n",
       "      <td>1989.000000</td>\n",
       "      <td>NaN</td>\n",
       "      <td>NaN</td>\n",
       "      <td>NaN</td>\n",
       "      <td>NaN</td>\n",
       "    </tr>\n",
       "    <tr>\n",
       "      <th>max</th>\n",
       "      <td>1992.000000</td>\n",
       "      <td>12.000000</td>\n",
       "      <td>31.000000</td>\n",
       "      <td>2016.000000</td>\n",
       "      <td>12.000000</td>\n",
       "      <td>31.000000</td>\n",
       "      <td>320.000000</td>\n",
       "      <td>81.000000</td>\n",
       "    </tr>\n",
       "  </tbody>\n",
       "</table>\n",
       "</div>"
      ],
      "text/plain": [
       "         birthYear   birthMonth     birthDay    deathYear   deathMonth  \\\n",
       "count  9327.000000  9180.000000  9041.000000  9336.000000  9335.000000   \n",
       "mean   1895.843144     6.612527    15.518637  1963.850364     6.484092   \n",
       "std      25.242584     3.478049     8.756774    31.506369     3.528685   \n",
       "min    1820.000000     1.000000     1.000000  1872.000000     1.000000   \n",
       "25%            NaN          NaN          NaN  1942.000000          NaN   \n",
       "50%            NaN          NaN          NaN  1966.000000          NaN   \n",
       "75%            NaN          NaN          NaN  1989.000000          NaN   \n",
       "max    1992.000000    12.000000    31.000000  2016.000000    12.000000   \n",
       "\n",
       "          deathDay       weight       height  \n",
       "count  9334.000000  8608.000000  8675.000000  \n",
       "mean     15.570281   175.986176    71.090144  \n",
       "std       8.778580    16.276167     2.398589  \n",
       "min       1.000000    65.000000    43.000000  \n",
       "25%            NaN          NaN          NaN  \n",
       "50%            NaN          NaN          NaN  \n",
       "75%            NaN          NaN          NaN  \n",
       "max      31.000000   320.000000    81.000000  "
      ]
     },
     "execution_count": 3,
     "metadata": {},
     "output_type": "execute_result"
    }
   ],
   "source": [
    "df_master[df_master.deathYear.notnull()].describe()"
   ]
  },
  {
   "cell_type": "markdown",
   "metadata": {},
   "source": [
    "Clearly we have missing values, since the count for the deathYear column exceeds that of every other column. While months and days of births and deaths might be imputed from a median, or set to default values (equivalent to dropping them and looking at age as an integer), birthYear would not make sense to impute, so rows missing that value will be dropped."
   ]
  },
  {
   "cell_type": "code",
   "execution_count": 4,
   "metadata": {
    "collapsed": false
   },
   "outputs": [
    {
     "name": "stderr",
     "output_type": "stream",
     "text": [
      "/home/anton/anaconda3/lib/python3.5/site-packages/numpy/lib/function_base.py:3834: RuntimeWarning: Invalid value encountered in percentile\n",
      "  RuntimeWarning)\n"
     ]
    },
    {
     "data": {
      "text/html": [
       "<div>\n",
       "<table border=\"1\" class=\"dataframe\">\n",
       "  <thead>\n",
       "    <tr style=\"text-align: right;\">\n",
       "      <th></th>\n",
       "      <th>birthYear</th>\n",
       "      <th>birthMonth</th>\n",
       "      <th>birthDay</th>\n",
       "      <th>deathYear</th>\n",
       "      <th>deathMonth</th>\n",
       "      <th>deathDay</th>\n",
       "      <th>weight</th>\n",
       "      <th>height</th>\n",
       "    </tr>\n",
       "  </thead>\n",
       "  <tbody>\n",
       "    <tr>\n",
       "      <th>count</th>\n",
       "      <td>9327.000000</td>\n",
       "      <td>9327.000000</td>\n",
       "      <td>9327.000000</td>\n",
       "      <td>9327.000000</td>\n",
       "      <td>9327.000000</td>\n",
       "      <td>9327.000000</td>\n",
       "      <td>8604.000000</td>\n",
       "      <td>8672.000000</td>\n",
       "    </tr>\n",
       "    <tr>\n",
       "      <th>mean</th>\n",
       "      <td>1895.843144</td>\n",
       "      <td>6.524070</td>\n",
       "      <td>15.073443</td>\n",
       "      <td>1963.910046</td>\n",
       "      <td>6.483757</td>\n",
       "      <td>15.567492</td>\n",
       "      <td>175.988610</td>\n",
       "      <td>71.090752</td>\n",
       "    </tr>\n",
       "    <tr>\n",
       "      <th>std</th>\n",
       "      <td>25.242584</td>\n",
       "      <td>3.520632</td>\n",
       "      <td>8.977506</td>\n",
       "      <td>31.460792</td>\n",
       "      <td>3.529802</td>\n",
       "      <td>8.782276</td>\n",
       "      <td>16.279106</td>\n",
       "      <td>2.398573</td>\n",
       "    </tr>\n",
       "    <tr>\n",
       "      <th>min</th>\n",
       "      <td>1820.000000</td>\n",
       "      <td>1.000000</td>\n",
       "      <td>1.000000</td>\n",
       "      <td>1872.000000</td>\n",
       "      <td>1.000000</td>\n",
       "      <td>1.000000</td>\n",
       "      <td>65.000000</td>\n",
       "      <td>43.000000</td>\n",
       "    </tr>\n",
       "    <tr>\n",
       "      <th>25%</th>\n",
       "      <td>1877.000000</td>\n",
       "      <td>3.000000</td>\n",
       "      <td>7.000000</td>\n",
       "      <td>1942.000000</td>\n",
       "      <td>3.000000</td>\n",
       "      <td>8.000000</td>\n",
       "      <td>NaN</td>\n",
       "      <td>NaN</td>\n",
       "    </tr>\n",
       "    <tr>\n",
       "      <th>50%</th>\n",
       "      <td>1895.000000</td>\n",
       "      <td>7.000000</td>\n",
       "      <td>15.000000</td>\n",
       "      <td>1966.000000</td>\n",
       "      <td>6.000000</td>\n",
       "      <td>15.000000</td>\n",
       "      <td>NaN</td>\n",
       "      <td>NaN</td>\n",
       "    </tr>\n",
       "    <tr>\n",
       "      <th>75%</th>\n",
       "      <td>1915.000000</td>\n",
       "      <td>10.000000</td>\n",
       "      <td>23.000000</td>\n",
       "      <td>1989.000000</td>\n",
       "      <td>10.000000</td>\n",
       "      <td>23.000000</td>\n",
       "      <td>NaN</td>\n",
       "      <td>NaN</td>\n",
       "    </tr>\n",
       "    <tr>\n",
       "      <th>max</th>\n",
       "      <td>1992.000000</td>\n",
       "      <td>12.000000</td>\n",
       "      <td>31.000000</td>\n",
       "      <td>2016.000000</td>\n",
       "      <td>12.000000</td>\n",
       "      <td>31.000000</td>\n",
       "      <td>320.000000</td>\n",
       "      <td>81.000000</td>\n",
       "    </tr>\n",
       "  </tbody>\n",
       "</table>\n",
       "</div>"
      ],
      "text/plain": [
       "         birthYear   birthMonth     birthDay    deathYear   deathMonth  \\\n",
       "count  9327.000000  9327.000000  9327.000000  9327.000000  9327.000000   \n",
       "mean   1895.843144     6.524070    15.073443  1963.910046     6.483757   \n",
       "std      25.242584     3.520632     8.977506    31.460792     3.529802   \n",
       "min    1820.000000     1.000000     1.000000  1872.000000     1.000000   \n",
       "25%    1877.000000     3.000000     7.000000  1942.000000     3.000000   \n",
       "50%    1895.000000     7.000000    15.000000  1966.000000     6.000000   \n",
       "75%    1915.000000    10.000000    23.000000  1989.000000    10.000000   \n",
       "max    1992.000000    12.000000    31.000000  2016.000000    12.000000   \n",
       "\n",
       "          deathDay       weight       height  \n",
       "count  9327.000000  8604.000000  8672.000000  \n",
       "mean     15.567492   175.988610    71.090752  \n",
       "std       8.782276    16.279106     2.398573  \n",
       "min       1.000000    65.000000    43.000000  \n",
       "25%       8.000000          NaN          NaN  \n",
       "50%      15.000000          NaN          NaN  \n",
       "75%      23.000000          NaN          NaN  \n",
       "max      31.000000   320.000000    81.000000  "
      ]
     },
     "execution_count": 4,
     "metadata": {},
     "output_type": "execute_result"
    }
   ],
   "source": [
    "default_dates = {'birthMonth': 1, 'birthDay': 1, 'deathMonth': 1, 'deathDay': 1}\n",
    "df_age = df_master[df_master.deathYear.notnull() & df_master.birthYear.notnull()].fillna(default_dates).copy()\n",
    "df_age.describe()"
   ]
  },
  {
   "cell_type": "markdown",
   "metadata": {},
   "source": [
    "We see that the weight and height values are still missing for some players. In an earlier iteration of this project, these missing values were imputed from the grouped medians of the available data - but as this artificially distorts the distributions, and in fact we're not concerned with these variables at all, they'll simply be dropped.\n",
    "\n",
    "Having filled the missing values, we'll calculate the player ages upon death and store this in a new column called Age:"
   ]
  },
  {
   "cell_type": "code",
   "execution_count": 5,
   "metadata": {
    "collapsed": false
   },
   "outputs": [],
   "source": [
    "def update_age_columns():\n",
    "    df_age['birth'] = pd.to_datetime(dict(year=df_age.birthYear, month=df_age.birthMonth, day=df_age.birthDay))\n",
    "    df_age['death'] = pd.to_datetime(dict(year=df_age.deathYear, month=df_age.deathMonth, day=df_age.deathDay))\n",
    "    df_age['age'] = (df_age.death-df_age.birth).astype('timedelta64[D]').astype(int) / 365.25\n",
    "\n",
    "update_age_columns()"
   ]
  },
  {
   "cell_type": "code",
   "execution_count": 6,
   "metadata": {
    "collapsed": false
   },
   "outputs": [
    {
     "data": {
      "text/plain": [
       "count    9327.000000\n",
       "mean       68.063386\n",
       "std        16.232458\n",
       "min       -19.200548\n",
       "25%        58.109514\n",
       "50%        70.403833\n",
       "75%        80.310746\n",
       "max       132.755647\n",
       "Name: age, dtype: float64"
      ]
     },
     "execution_count": 6,
     "metadata": {},
     "output_type": "execute_result"
    },
    {
     "data": {
      "image/png": "[encoded data removed]",
      "text/plain": [
       "<matplotlib.figure.Figure at 0x7fc8c84db780>"
      ]
     },
     "metadata": {},
     "output_type": "display_data"
    }
   ],
   "source": [
    "import matplotlib\n",
    "import matplotlib.pyplot as plt\n",
    "%matplotlib inline\n",
    "matplotlib.style.use('ggplot')\n",
    "f = plt.figure()\n",
    "ax = df_age['age'].plot(kind='hist', bins=20, legend=True);\n",
    "f.suptitle('Player Longevity Distribution - Raw Data');\n",
    "ax.set_xlabel('Longevity')\n",
    "df_age['age'].describe()"
   ]
  },
  {
   "cell_type": "markdown",
   "metadata": {},
   "source": [
    "Evidently we still have some room for concern - the minimum player age is -19.2, circumventing physical laws that restrict exceeding the speed of light, and the maximum age is 132.76, which is older than the oldest human on record (122 years). Let's examine some of these entries:"
   ]
  },
  {
   "cell_type": "code",
   "execution_count": 7,
   "metadata": {
    "collapsed": false
   },
   "outputs": [
    {
     "name": "stdout",
     "output_type": "stream",
     "text": [
      "5435     132.755647\n",
      "7700     107.359343\n",
      "10541    102.995209\n",
      "Name: age, dtype: float64\n",
      "8384    -19.200548\n",
      "3825     19.540041\n",
      "15779    20.290212\n",
      "Name: age, dtype: float64\n"
     ]
    }
   ],
   "source": [
    "print(df_age['age'].nlargest(3))\n",
    "print(df_age['age'].nsmallest(3))"
   ]
  },
  {
   "cell_type": "markdown",
   "metadata": {},
   "source": [
    "In fact it appears that only the two extreme entries may have mistaken information. Let's run a sanity check on them:"
   ]
  },
  {
   "cell_type": "code",
   "execution_count": 8,
   "metadata": {
    "collapsed": false
   },
   "outputs": [
    {
     "data": {
      "text/html": [
       "<div>\n",
       "<table border=\"1\" class=\"dataframe\">\n",
       "  <thead>\n",
       "    <tr style=\"text-align: right;\">\n",
       "      <th></th>\n",
       "      <th>nameLast</th>\n",
       "      <th>nameFirst</th>\n",
       "      <th>birth</th>\n",
       "      <th>death</th>\n",
       "    </tr>\n",
       "  </thead>\n",
       "  <tbody>\n",
       "    <tr>\n",
       "      <th>5435</th>\n",
       "      <td>Flowers</td>\n",
       "      <td>Dickie</td>\n",
       "      <td>1850-01-01</td>\n",
       "      <td>1982-10-05</td>\n",
       "    </tr>\n",
       "    <tr>\n",
       "      <th>7700</th>\n",
       "      <td>Hoff</td>\n",
       "      <td>Red</td>\n",
       "      <td>1891-05-08</td>\n",
       "      <td>1998-09-17</td>\n",
       "    </tr>\n",
       "  </tbody>\n",
       "</table>\n",
       "</div>"
      ],
      "text/plain": [
       "     nameLast nameFirst      birth      death\n",
       "5435  Flowers    Dickie 1850-01-01 1982-10-05\n",
       "7700     Hoff       Red 1891-05-08 1998-09-17"
      ]
     },
     "execution_count": 8,
     "metadata": {},
     "output_type": "execute_result"
    }
   ],
   "source": [
    "df_age.loc[df_age['age'].nlargest(2).index][['nameLast','nameFirst','birth','death']]"
   ]
  },
  {
   "cell_type": "markdown",
   "metadata": {},
   "source": [
    "Checking Wikipedia, in the case of <a href='https://en.wikipedia.org/wiki/Dickie_Flowers'>Dickie Flowers</a>, we can see that his date of death is actually 1892-10-06, so the 8 and 9 were simply reversed. In the case of <a href='https://en.wikipedia.org/wiki/Red_Hoff'>Red Hoff</a>, the dates are in fact correct, and he did live to 107 years old."
   ]
  },
  {
   "cell_type": "code",
   "execution_count": 9,
   "metadata": {
    "collapsed": false
   },
   "outputs": [
    {
     "data": {
      "text/html": [
       "<div>\n",
       "<table border=\"1\" class=\"dataframe\">\n",
       "  <thead>\n",
       "    <tr style=\"text-align: right;\">\n",
       "      <th></th>\n",
       "      <th>nameLast</th>\n",
       "      <th>nameFirst</th>\n",
       "      <th>birth</th>\n",
       "      <th>death</th>\n",
       "    </tr>\n",
       "  </thead>\n",
       "  <tbody>\n",
       "    <tr>\n",
       "      <th>8384</th>\n",
       "      <td>Johnson</td>\n",
       "      <td>Lefty</td>\n",
       "      <td>1961-09-28</td>\n",
       "      <td>1942-07-17</td>\n",
       "    </tr>\n",
       "    <tr>\n",
       "      <th>3825</th>\n",
       "      <td>Dahl</td>\n",
       "      <td>Jay</td>\n",
       "      <td>1945-12-06</td>\n",
       "      <td>1965-06-21</td>\n",
       "    </tr>\n",
       "  </tbody>\n",
       "</table>\n",
       "</div>"
      ],
      "text/plain": [
       "     nameLast nameFirst      birth      death\n",
       "8384  Johnson     Lefty 1961-09-28 1942-07-17\n",
       "3825     Dahl       Jay 1945-12-06 1965-06-21"
      ]
     },
     "execution_count": 9,
     "metadata": {},
     "output_type": "execute_result"
    }
   ],
   "source": [
    "df_age.loc[df_age['age'].nsmallest(2).index][['nameLast','nameFirst','birth','death']]"
   ]
  },
  {
   "cell_type": "markdown",
   "metadata": {},
   "source": [
    "The dates for <a href='https://en.wikipedia.org/wiki/Lefty_Johnson'>Lefty Johnson</a> are also incorrect - his birth year is actually 1862. <a href='https://en.wikipedia.org/wiki/Jay_Dahl'>Jay Dahl's</a> dates appear to be correct.\n",
    "\n",
    "Having done this fact checking on the outliers, we'll correct those values and recalculate the age columns."
   ]
  },
  {
   "cell_type": "code",
   "execution_count": 10,
   "metadata": {
    "collapsed": false
   },
   "outputs": [],
   "source": [
    "df_age.loc[5435,'deathYear'] = 1892\n",
    "df_age.loc[8384,'birthYear'] = 1862\n",
    "update_age_columns()"
   ]
  },
  {
   "cell_type": "code",
   "execution_count": 11,
   "metadata": {
    "collapsed": false
   },
   "outputs": [
    {
     "data": {
      "text/plain": [
       "count    9327.000000\n",
       "mean       68.064351\n",
       "std        16.196012\n",
       "min        19.540041\n",
       "25%        58.109514\n",
       "50%        70.403833\n",
       "75%        80.302533\n",
       "max       107.359343\n",
       "Name: age, dtype: float64"
      ]
     },
     "execution_count": 11,
     "metadata": {},
     "output_type": "execute_result"
    },
    {
     "data": {
      "image/png": "[encoded data removed]",
      "text/plain": [
       "<matplotlib.figure.Figure at 0x7fc8c35243c8>"
      ]
     },
     "metadata": {},
     "output_type": "display_data"
    }
   ],
   "source": [
    "f, (ax1, ax2) = plt.subplots(1, 2, sharey=False, figsize=(10, 3))\n",
    "df_age['age'].plot(kind='hist', bins=20, legend=True, ax=ax1)\n",
    "df_age[['age']].boxplot(return_type='axes', ax=ax2);\n",
    "ax1.set_xlabel('Longevity');\n",
    "ax1.set_ylabel('Frequency')\n",
    "ax2.set_ylabel('Longevity')\n",
    "f.suptitle('Player Longevity Distribution - Cleaned Data')\n",
    "\n",
    "df_age['age'].describe()"
   ]
  },
  {
   "cell_type": "markdown",
   "metadata": {},
   "source": [
    "With this distribution and statistics, I'm satisfied that the age data has been cleaned sufficiently. The histogram reveals a negatively skewed distribution for players' age, which concurs with my intuition on what distribution to have expected.\n",
    "\n",
    "Next, since I'm interested in Hall of Fame, salary, teams for which each player has played, and World Series wins, I'll read in those CSVs, merge the tables, and inspect the quality of the data."
   ]
  },
  {
   "cell_type": "code",
   "execution_count": 12,
   "metadata": {
    "collapsed": false
   },
   "outputs": [],
   "source": [
    "df_HOF = pd.read_csv('core/HallOfFame.csv')\n",
    "df_salary = pd.read_csv('core/Salaries.csv')\n",
    "df_batting = pd.read_csv('core/Batting.csv')\n",
    "df_teams = pd.read_csv('core/Teams.csv')"
   ]
  },
  {
   "cell_type": "markdown",
   "metadata": {},
   "source": [
    "Rather than use the raw salaries as provided, which contain salaries per year per athlete, I'll instead reduce the dimensionality of the data and consider the descriptive statistics of min, mean, and max salaries over a player's career."
   ]
  },
  {
   "cell_type": "code",
   "execution_count": 13,
   "metadata": {
    "collapsed": false
   },
   "outputs": [
    {
     "name": "stderr",
     "output_type": "stream",
     "text": [
      "/home/anton/anaconda3/lib/python3.5/site-packages/numpy/lib/function_base.py:3834: RuntimeWarning: Invalid value encountered in percentile\n",
      "  RuntimeWarning)\n"
     ]
    },
    {
     "data": {
      "text/html": [
       "<div>\n",
       "<table border=\"1\" class=\"dataframe\">\n",
       "  <thead>\n",
       "    <tr style=\"text-align: right;\">\n",
       "      <th></th>\n",
       "      <th>birthYear</th>\n",
       "      <th>birthMonth</th>\n",
       "      <th>birthDay</th>\n",
       "      <th>deathYear</th>\n",
       "      <th>deathMonth</th>\n",
       "      <th>deathDay</th>\n",
       "      <th>weight</th>\n",
       "      <th>height</th>\n",
       "      <th>age</th>\n",
       "      <th>max_salary</th>\n",
       "      <th>mean_salary</th>\n",
       "      <th>min_salary</th>\n",
       "    </tr>\n",
       "  </thead>\n",
       "  <tbody>\n",
       "    <tr>\n",
       "      <th>count</th>\n",
       "      <td>9327.000000</td>\n",
       "      <td>9327.000000</td>\n",
       "      <td>9327.000000</td>\n",
       "      <td>9327.000000</td>\n",
       "      <td>9327.000000</td>\n",
       "      <td>9327.000000</td>\n",
       "      <td>8604.000000</td>\n",
       "      <td>8672.000000</td>\n",
       "      <td>9327.000000</td>\n",
       "      <td>8.700000e+01</td>\n",
       "      <td>8.700000e+01</td>\n",
       "      <td>87.000000</td>\n",
       "    </tr>\n",
       "    <tr>\n",
       "      <th>mean</th>\n",
       "      <td>1895.832529</td>\n",
       "      <td>6.524070</td>\n",
       "      <td>15.073443</td>\n",
       "      <td>1963.900397</td>\n",
       "      <td>6.483757</td>\n",
       "      <td>15.567492</td>\n",
       "      <td>175.988610</td>\n",
       "      <td>71.090752</td>\n",
       "      <td>68.064351</td>\n",
       "      <td>1.440537e+06</td>\n",
       "      <td>7.390481e+05</td>\n",
       "      <td>227516.574713</td>\n",
       "    </tr>\n",
       "    <tr>\n",
       "      <th>std</th>\n",
       "      <td>25.235996</td>\n",
       "      <td>3.520632</td>\n",
       "      <td>8.977506</td>\n",
       "      <td>31.469044</td>\n",
       "      <td>3.529802</td>\n",
       "      <td>8.782276</td>\n",
       "      <td>16.279106</td>\n",
       "      <td>2.398573</td>\n",
       "      <td>16.196012</td>\n",
       "      <td>1.842788e+06</td>\n",
       "      <td>7.843830e+05</td>\n",
       "      <td>173766.738381</td>\n",
       "    </tr>\n",
       "    <tr>\n",
       "      <th>min</th>\n",
       "      <td>1820.000000</td>\n",
       "      <td>1.000000</td>\n",
       "      <td>1.000000</td>\n",
       "      <td>1872.000000</td>\n",
       "      <td>1.000000</td>\n",
       "      <td>1.000000</td>\n",
       "      <td>65.000000</td>\n",
       "      <td>43.000000</td>\n",
       "      <td>19.540041</td>\n",
       "      <td>6.750000e+04</td>\n",
       "      <td>6.500000e+04</td>\n",
       "      <td>60000.000000</td>\n",
       "    </tr>\n",
       "    <tr>\n",
       "      <th>25%</th>\n",
       "      <td>1877.000000</td>\n",
       "      <td>3.000000</td>\n",
       "      <td>7.000000</td>\n",
       "      <td>1942.000000</td>\n",
       "      <td>3.000000</td>\n",
       "      <td>8.000000</td>\n",
       "      <td>NaN</td>\n",
       "      <td>NaN</td>\n",
       "      <td>58.109514</td>\n",
       "      <td>NaN</td>\n",
       "      <td>NaN</td>\n",
       "      <td>NaN</td>\n",
       "    </tr>\n",
       "    <tr>\n",
       "      <th>50%</th>\n",
       "      <td>1895.000000</td>\n",
       "      <td>7.000000</td>\n",
       "      <td>15.000000</td>\n",
       "      <td>1966.000000</td>\n",
       "      <td>6.000000</td>\n",
       "      <td>15.000000</td>\n",
       "      <td>NaN</td>\n",
       "      <td>NaN</td>\n",
       "      <td>70.403833</td>\n",
       "      <td>NaN</td>\n",
       "      <td>NaN</td>\n",
       "      <td>NaN</td>\n",
       "    </tr>\n",
       "    <tr>\n",
       "      <th>75%</th>\n",
       "      <td>1915.000000</td>\n",
       "      <td>10.000000</td>\n",
       "      <td>23.000000</td>\n",
       "      <td>1989.000000</td>\n",
       "      <td>10.000000</td>\n",
       "      <td>23.000000</td>\n",
       "      <td>NaN</td>\n",
       "      <td>NaN</td>\n",
       "      <td>80.302533</td>\n",
       "      <td>NaN</td>\n",
       "      <td>NaN</td>\n",
       "      <td>NaN</td>\n",
       "    </tr>\n",
       "    <tr>\n",
       "      <th>max</th>\n",
       "      <td>1992.000000</td>\n",
       "      <td>12.000000</td>\n",
       "      <td>31.000000</td>\n",
       "      <td>2016.000000</td>\n",
       "      <td>12.000000</td>\n",
       "      <td>31.000000</td>\n",
       "      <td>320.000000</td>\n",
       "      <td>81.000000</td>\n",
       "      <td>107.359343</td>\n",
       "      <td>8.442981e+06</td>\n",
       "      <td>3.368731e+06</td>\n",
       "      <td>750000.000000</td>\n",
       "    </tr>\n",
       "  </tbody>\n",
       "</table>\n",
       "</div>"
      ],
      "text/plain": [
       "         birthYear   birthMonth     birthDay    deathYear   deathMonth  \\\n",
       "count  9327.000000  9327.000000  9327.000000  9327.000000  9327.000000   \n",
       "mean   1895.832529     6.524070    15.073443  1963.900397     6.483757   \n",
       "std      25.235996     3.520632     8.977506    31.469044     3.529802   \n",
       "min    1820.000000     1.000000     1.000000  1872.000000     1.000000   \n",
       "25%    1877.000000     3.000000     7.000000  1942.000000     3.000000   \n",
       "50%    1895.000000     7.000000    15.000000  1966.000000     6.000000   \n",
       "75%    1915.000000    10.000000    23.000000  1989.000000    10.000000   \n",
       "max    1992.000000    12.000000    31.000000  2016.000000    12.000000   \n",
       "\n",
       "          deathDay       weight       height          age    max_salary  \\\n",
       "count  9327.000000  8604.000000  8672.000000  9327.000000  8.700000e+01   \n",
       "mean     15.567492   175.988610    71.090752    68.064351  1.440537e+06   \n",
       "std       8.782276    16.279106     2.398573    16.196012  1.842788e+06   \n",
       "min       1.000000    65.000000    43.000000    19.540041  6.750000e+04   \n",
       "25%       8.000000          NaN          NaN    58.109514           NaN   \n",
       "50%      15.000000          NaN          NaN    70.403833           NaN   \n",
       "75%      23.000000          NaN          NaN    80.302533           NaN   \n",
       "max      31.000000   320.000000    81.000000   107.359343  8.442981e+06   \n",
       "\n",
       "        mean_salary     min_salary  \n",
       "count  8.700000e+01      87.000000  \n",
       "mean   7.390481e+05  227516.574713  \n",
       "std    7.843830e+05  173766.738381  \n",
       "min    6.500000e+04   60000.000000  \n",
       "25%             NaN            NaN  \n",
       "50%             NaN            NaN  \n",
       "75%             NaN            NaN  \n",
       "max    3.368731e+06  750000.000000  "
      ]
     },
     "execution_count": 13,
     "metadata": {},
     "output_type": "execute_result"
    }
   ],
   "source": [
    "df_salary_stats = pd.DataFrame({'min_salary': df_salary.groupby('playerID')['salary'].min(), \n",
    "                                'mean_salary': df_salary.groupby('playerID')['salary'].mean(),\n",
    "                                'max_salary': df_salary.groupby('playerID')['salary'].max()},\n",
    "                                index=df_salary.groupby('playerID')['salary'].groups)\n",
    "df_salary_stats['playerID'] = df_salary_stats.index\n",
    "df_age = df_age.merge(df_salary_stats, on='playerID', how='left')\n",
    "df_age.describe()"
   ]
  },
  {
   "cell_type": "markdown",
   "metadata": {},
   "source": [
    "Interestingly, there are only 87 entires for salaries, so this is likely to be insufficient for any substantial analysis. Nevertheless, we'll have a look later.\n",
    "\n",
    "Next, we'll look at HOF data:"
   ]
  },
  {
   "cell_type": "code",
   "execution_count": 14,
   "metadata": {
    "collapsed": false
   },
   "outputs": [
    {
     "data": {
      "text/html": [
       "<div>\n",
       "<table border=\"1\" class=\"dataframe\">\n",
       "  <thead>\n",
       "    <tr style=\"text-align: right;\">\n",
       "      <th></th>\n",
       "      <th>playerID</th>\n",
       "      <th>inducted</th>\n",
       "    </tr>\n",
       "  </thead>\n",
       "  <tbody>\n",
       "    <tr>\n",
       "      <th>count</th>\n",
       "      <td>312</td>\n",
       "      <td>312</td>\n",
       "    </tr>\n",
       "    <tr>\n",
       "      <th>unique</th>\n",
       "      <td>312</td>\n",
       "      <td>1</td>\n",
       "    </tr>\n",
       "    <tr>\n",
       "      <th>top</th>\n",
       "      <td>suttlmu99</td>\n",
       "      <td>Y</td>\n",
       "    </tr>\n",
       "    <tr>\n",
       "      <th>freq</th>\n",
       "      <td>1</td>\n",
       "      <td>312</td>\n",
       "    </tr>\n",
       "  </tbody>\n",
       "</table>\n",
       "</div>"
      ],
      "text/plain": [
       "         playerID inducted\n",
       "count         312      312\n",
       "unique        312        1\n",
       "top     suttlmu99        Y\n",
       "freq            1      312"
      ]
     },
     "execution_count": 14,
     "metadata": {},
     "output_type": "execute_result"
    }
   ],
   "source": [
    "df_inductees = df_HOF.loc[df_HOF.inducted == 'Y'][['playerID', 'inducted']].copy()\n",
    "df_age = df_age.merge(df_inductees, on='playerID', how='left')\n",
    "df_age['inducted'].fillna('N', inplace=True)\n",
    "df_inductees.describe()"
   ]
  },
  {
   "cell_type": "markdown",
   "metadata": {},
   "source": [
    "The 312 count of inductees is reflective of actual numbers, as available on the <a href='http://baseballhall.org/hall-of-famers'>Baseball Hall of Fame website</a>. We'll go ahead and merge these with our available data. Notably, we see that:"
   ]
  },
  {
   "cell_type": "code",
   "execution_count": 15,
   "metadata": {
    "collapsed": false
   },
   "outputs": [
    {
     "name": "stdout",
     "output_type": "stream",
     "text": [
      "243 of 312 Hall of Famers are deceased.\n"
     ]
    }
   ],
   "source": [
    "print('{} of 312 Hall of Famers are deceased.'.format(df_age.loc[df_age['inducted'] == 'Y']['playerID'].count()))"
   ]
  },
  {
   "cell_type": "markdown",
   "metadata": {},
   "source": [
    "Next, we'll look at the Batting data, and attempt to discern which players played for which teams."
   ]
  },
  {
   "cell_type": "code",
   "execution_count": 16,
   "metadata": {
    "collapsed": false
   },
   "outputs": [
    {
     "data": {
      "text/html": [
       "<div>\n",
       "<table border=\"1\" class=\"dataframe\">\n",
       "  <thead>\n",
       "    <tr style=\"text-align: right;\">\n",
       "      <th></th>\n",
       "      <th>playerID</th>\n",
       "      <th>yearID</th>\n",
       "      <th>stint</th>\n",
       "      <th>teamID</th>\n",
       "      <th>lgID</th>\n",
       "      <th>G</th>\n",
       "      <th>AB</th>\n",
       "      <th>R</th>\n",
       "      <th>H</th>\n",
       "      <th>2B</th>\n",
       "      <th>...</th>\n",
       "      <th>RBI</th>\n",
       "      <th>SB</th>\n",
       "      <th>CS</th>\n",
       "      <th>BB</th>\n",
       "      <th>SO</th>\n",
       "      <th>IBB</th>\n",
       "      <th>HBP</th>\n",
       "      <th>SH</th>\n",
       "      <th>SF</th>\n",
       "      <th>GIDP</th>\n",
       "    </tr>\n",
       "  </thead>\n",
       "  <tbody>\n",
       "    <tr>\n",
       "      <th>0</th>\n",
       "      <td>abercda01</td>\n",
       "      <td>1871</td>\n",
       "      <td>1</td>\n",
       "      <td>TRO</td>\n",
       "      <td>NaN</td>\n",
       "      <td>1</td>\n",
       "      <td>4.0</td>\n",
       "      <td>0.0</td>\n",
       "      <td>0.0</td>\n",
       "      <td>0.0</td>\n",
       "      <td>...</td>\n",
       "      <td>0.0</td>\n",
       "      <td>0.0</td>\n",
       "      <td>0.0</td>\n",
       "      <td>0.0</td>\n",
       "      <td>0.0</td>\n",
       "      <td>NaN</td>\n",
       "      <td>NaN</td>\n",
       "      <td>NaN</td>\n",
       "      <td>NaN</td>\n",
       "      <td>NaN</td>\n",
       "    </tr>\n",
       "    <tr>\n",
       "      <th>1</th>\n",
       "      <td>addybo01</td>\n",
       "      <td>1871</td>\n",
       "      <td>1</td>\n",
       "      <td>RC1</td>\n",
       "      <td>NaN</td>\n",
       "      <td>25</td>\n",
       "      <td>118.0</td>\n",
       "      <td>30.0</td>\n",
       "      <td>32.0</td>\n",
       "      <td>6.0</td>\n",
       "      <td>...</td>\n",
       "      <td>13.0</td>\n",
       "      <td>8.0</td>\n",
       "      <td>1.0</td>\n",
       "      <td>4.0</td>\n",
       "      <td>0.0</td>\n",
       "      <td>NaN</td>\n",
       "      <td>NaN</td>\n",
       "      <td>NaN</td>\n",
       "      <td>NaN</td>\n",
       "      <td>NaN</td>\n",
       "    </tr>\n",
       "    <tr>\n",
       "      <th>2</th>\n",
       "      <td>allisar01</td>\n",
       "      <td>1871</td>\n",
       "      <td>1</td>\n",
       "      <td>CL1</td>\n",
       "      <td>NaN</td>\n",
       "      <td>29</td>\n",
       "      <td>137.0</td>\n",
       "      <td>28.0</td>\n",
       "      <td>40.0</td>\n",
       "      <td>4.0</td>\n",
       "      <td>...</td>\n",
       "      <td>19.0</td>\n",
       "      <td>3.0</td>\n",
       "      <td>1.0</td>\n",
       "      <td>2.0</td>\n",
       "      <td>5.0</td>\n",
       "      <td>NaN</td>\n",
       "      <td>NaN</td>\n",
       "      <td>NaN</td>\n",
       "      <td>NaN</td>\n",
       "      <td>NaN</td>\n",
       "    </tr>\n",
       "    <tr>\n",
       "      <th>3</th>\n",
       "      <td>allisdo01</td>\n",
       "      <td>1871</td>\n",
       "      <td>1</td>\n",
       "      <td>WS3</td>\n",
       "      <td>NaN</td>\n",
       "      <td>27</td>\n",
       "      <td>133.0</td>\n",
       "      <td>28.0</td>\n",
       "      <td>44.0</td>\n",
       "      <td>10.0</td>\n",
       "      <td>...</td>\n",
       "      <td>27.0</td>\n",
       "      <td>1.0</td>\n",
       "      <td>1.0</td>\n",
       "      <td>0.0</td>\n",
       "      <td>2.0</td>\n",
       "      <td>NaN</td>\n",
       "      <td>NaN</td>\n",
       "      <td>NaN</td>\n",
       "      <td>NaN</td>\n",
       "      <td>NaN</td>\n",
       "    </tr>\n",
       "    <tr>\n",
       "      <th>4</th>\n",
       "      <td>ansonca01</td>\n",
       "      <td>1871</td>\n",
       "      <td>1</td>\n",
       "      <td>RC1</td>\n",
       "      <td>NaN</td>\n",
       "      <td>25</td>\n",
       "      <td>120.0</td>\n",
       "      <td>29.0</td>\n",
       "      <td>39.0</td>\n",
       "      <td>11.0</td>\n",
       "      <td>...</td>\n",
       "      <td>16.0</td>\n",
       "      <td>6.0</td>\n",
       "      <td>2.0</td>\n",
       "      <td>2.0</td>\n",
       "      <td>1.0</td>\n",
       "      <td>NaN</td>\n",
       "      <td>NaN</td>\n",
       "      <td>NaN</td>\n",
       "      <td>NaN</td>\n",
       "      <td>NaN</td>\n",
       "    </tr>\n",
       "  </tbody>\n",
       "</table>\n",
       "<p>5 rows × 22 columns</p>\n",
       "</div>"
      ],
      "text/plain": [
       "    playerID  yearID  stint teamID lgID   G     AB     R     H    2B  ...   \\\n",
       "0  abercda01    1871      1    TRO  NaN   1    4.0   0.0   0.0   0.0  ...    \n",
       "1   addybo01    1871      1    RC1  NaN  25  118.0  30.0  32.0   6.0  ...    \n",
       "2  allisar01    1871      1    CL1  NaN  29  137.0  28.0  40.0   4.0  ...    \n",
       "3  allisdo01    1871      1    WS3  NaN  27  133.0  28.0  44.0  10.0  ...    \n",
       "4  ansonca01    1871      1    RC1  NaN  25  120.0  29.0  39.0  11.0  ...    \n",
       "\n",
       "    RBI   SB   CS   BB   SO  IBB  HBP  SH  SF  GIDP  \n",
       "0   0.0  0.0  0.0  0.0  0.0  NaN  NaN NaN NaN   NaN  \n",
       "1  13.0  8.0  1.0  4.0  0.0  NaN  NaN NaN NaN   NaN  \n",
       "2  19.0  3.0  1.0  2.0  5.0  NaN  NaN NaN NaN   NaN  \n",
       "3  27.0  1.0  1.0  0.0  2.0  NaN  NaN NaN NaN   NaN  \n",
       "4  16.0  6.0  2.0  2.0  1.0  NaN  NaN NaN NaN   NaN  \n",
       "\n",
       "[5 rows x 22 columns]"
      ]
     },
     "execution_count": 16,
     "metadata": {},
     "output_type": "execute_result"
    }
   ],
   "source": [
    "df_batting.head()"
   ]
  },
  {
   "cell_type": "code",
   "execution_count": 17,
   "metadata": {
    "collapsed": false
   },
   "outputs": [
    {
     "name": "stdout",
     "output_type": "stream",
     "text": [
      "There are 101332 (player, team) entries, of which 43764 are unique.\n"
     ]
    }
   ],
   "source": [
    "print('There are {} (player, team) entries, of which {} are unique.'.format(len(df_batting[['playerID','teamID']].index),len(df_batting[['playerID','teamID']].drop_duplicates().index)))"
   ]
  },
  {
   "cell_type": "markdown",
   "metadata": {},
   "source": [
    "In order to understand which teams each player played for, we'll do a left merge of the age data with the player & teams data, allowing duplication of rows where a player has played on multiple teams (we'll later drop duplicates where appropriate)."
   ]
  },
  {
   "cell_type": "code",
   "execution_count": 18,
   "metadata": {
    "collapsed": false
   },
   "outputs": [
    {
     "data": {
      "text/html": [
       "<div>\n",
       "<table border=\"1\" class=\"dataframe\">\n",
       "  <thead>\n",
       "    <tr style=\"text-align: right;\">\n",
       "      <th></th>\n",
       "      <th>playerID</th>\n",
       "      <th>birthYear</th>\n",
       "      <th>birthMonth</th>\n",
       "      <th>birthDay</th>\n",
       "      <th>birthCountry</th>\n",
       "      <th>birthState</th>\n",
       "      <th>birthCity</th>\n",
       "      <th>deathYear</th>\n",
       "      <th>deathMonth</th>\n",
       "      <th>deathDay</th>\n",
       "      <th>...</th>\n",
       "      <th>retroID</th>\n",
       "      <th>bbrefID</th>\n",
       "      <th>birth</th>\n",
       "      <th>death</th>\n",
       "      <th>age</th>\n",
       "      <th>max_salary</th>\n",
       "      <th>mean_salary</th>\n",
       "      <th>min_salary</th>\n",
       "      <th>inducted</th>\n",
       "      <th>teamID</th>\n",
       "    </tr>\n",
       "  </thead>\n",
       "  <tbody>\n",
       "    <tr>\n",
       "      <th>0</th>\n",
       "      <td>aaronto01</td>\n",
       "      <td>1939.0</td>\n",
       "      <td>8.0</td>\n",
       "      <td>5.0</td>\n",
       "      <td>USA</td>\n",
       "      <td>AL</td>\n",
       "      <td>Mobile</td>\n",
       "      <td>1984.0</td>\n",
       "      <td>8.0</td>\n",
       "      <td>16.0</td>\n",
       "      <td>...</td>\n",
       "      <td>aarot101</td>\n",
       "      <td>aaronto01</td>\n",
       "      <td>1939-08-05</td>\n",
       "      <td>1984-08-16</td>\n",
       "      <td>45.032170</td>\n",
       "      <td>NaN</td>\n",
       "      <td>NaN</td>\n",
       "      <td>NaN</td>\n",
       "      <td>N</td>\n",
       "      <td>ML1</td>\n",
       "    </tr>\n",
       "    <tr>\n",
       "      <th>1</th>\n",
       "      <td>aaronto01</td>\n",
       "      <td>1939.0</td>\n",
       "      <td>8.0</td>\n",
       "      <td>5.0</td>\n",
       "      <td>USA</td>\n",
       "      <td>AL</td>\n",
       "      <td>Mobile</td>\n",
       "      <td>1984.0</td>\n",
       "      <td>8.0</td>\n",
       "      <td>16.0</td>\n",
       "      <td>...</td>\n",
       "      <td>aarot101</td>\n",
       "      <td>aaronto01</td>\n",
       "      <td>1939-08-05</td>\n",
       "      <td>1984-08-16</td>\n",
       "      <td>45.032170</td>\n",
       "      <td>NaN</td>\n",
       "      <td>NaN</td>\n",
       "      <td>NaN</td>\n",
       "      <td>N</td>\n",
       "      <td>ATL</td>\n",
       "    </tr>\n",
       "    <tr>\n",
       "      <th>2</th>\n",
       "      <td>abadijo01</td>\n",
       "      <td>1854.0</td>\n",
       "      <td>11.0</td>\n",
       "      <td>4.0</td>\n",
       "      <td>USA</td>\n",
       "      <td>PA</td>\n",
       "      <td>Philadelphia</td>\n",
       "      <td>1905.0</td>\n",
       "      <td>5.0</td>\n",
       "      <td>17.0</td>\n",
       "      <td>...</td>\n",
       "      <td>abadj101</td>\n",
       "      <td>abadijo01</td>\n",
       "      <td>1854-11-04</td>\n",
       "      <td>1905-05-17</td>\n",
       "      <td>50.529774</td>\n",
       "      <td>NaN</td>\n",
       "      <td>NaN</td>\n",
       "      <td>NaN</td>\n",
       "      <td>N</td>\n",
       "      <td>PH3</td>\n",
       "    </tr>\n",
       "    <tr>\n",
       "      <th>3</th>\n",
       "      <td>abadijo01</td>\n",
       "      <td>1854.0</td>\n",
       "      <td>11.0</td>\n",
       "      <td>4.0</td>\n",
       "      <td>USA</td>\n",
       "      <td>PA</td>\n",
       "      <td>Philadelphia</td>\n",
       "      <td>1905.0</td>\n",
       "      <td>5.0</td>\n",
       "      <td>17.0</td>\n",
       "      <td>...</td>\n",
       "      <td>abadj101</td>\n",
       "      <td>abadijo01</td>\n",
       "      <td>1854-11-04</td>\n",
       "      <td>1905-05-17</td>\n",
       "      <td>50.529774</td>\n",
       "      <td>NaN</td>\n",
       "      <td>NaN</td>\n",
       "      <td>NaN</td>\n",
       "      <td>N</td>\n",
       "      <td>BR2</td>\n",
       "    </tr>\n",
       "    <tr>\n",
       "      <th>4</th>\n",
       "      <td>abbated01</td>\n",
       "      <td>1877.0</td>\n",
       "      <td>4.0</td>\n",
       "      <td>15.0</td>\n",
       "      <td>USA</td>\n",
       "      <td>PA</td>\n",
       "      <td>Latrobe</td>\n",
       "      <td>1957.0</td>\n",
       "      <td>1.0</td>\n",
       "      <td>6.0</td>\n",
       "      <td>...</td>\n",
       "      <td>abbae101</td>\n",
       "      <td>abbated01</td>\n",
       "      <td>1877-04-15</td>\n",
       "      <td>1957-01-06</td>\n",
       "      <td>79.726215</td>\n",
       "      <td>NaN</td>\n",
       "      <td>NaN</td>\n",
       "      <td>NaN</td>\n",
       "      <td>N</td>\n",
       "      <td>PHI</td>\n",
       "    </tr>\n",
       "  </tbody>\n",
       "</table>\n",
       "<p>5 rows × 32 columns</p>\n",
       "</div>"
      ],
      "text/plain": [
       "    playerID  birthYear  birthMonth  birthDay birthCountry birthState  \\\n",
       "0  aaronto01     1939.0         8.0       5.0          USA         AL   \n",
       "1  aaronto01     1939.0         8.0       5.0          USA         AL   \n",
       "2  abadijo01     1854.0        11.0       4.0          USA         PA   \n",
       "3  abadijo01     1854.0        11.0       4.0          USA         PA   \n",
       "4  abbated01     1877.0         4.0      15.0          USA         PA   \n",
       "\n",
       "      birthCity  deathYear  deathMonth  deathDay  ...     retroID    bbrefID  \\\n",
       "0        Mobile     1984.0         8.0      16.0  ...    aarot101  aaronto01   \n",
       "1        Mobile     1984.0         8.0      16.0  ...    aarot101  aaronto01   \n",
       "2  Philadelphia     1905.0         5.0      17.0  ...    abadj101  abadijo01   \n",
       "3  Philadelphia     1905.0         5.0      17.0  ...    abadj101  abadijo01   \n",
       "4       Latrobe     1957.0         1.0       6.0  ...    abbae101  abbated01   \n",
       "\n",
       "       birth      death        age max_salary  mean_salary  min_salary  \\\n",
       "0 1939-08-05 1984-08-16  45.032170        NaN          NaN         NaN   \n",
       "1 1939-08-05 1984-08-16  45.032170        NaN          NaN         NaN   \n",
       "2 1854-11-04 1905-05-17  50.529774        NaN          NaN         NaN   \n",
       "3 1854-11-04 1905-05-17  50.529774        NaN          NaN         NaN   \n",
       "4 1877-04-15 1957-01-06  79.726215        NaN          NaN         NaN   \n",
       "\n",
       "  inducted teamID  \n",
       "0        N    ML1  \n",
       "1        N    ATL  \n",
       "2        N    PH3  \n",
       "3        N    BR2  \n",
       "4        N    PHI  \n",
       "\n",
       "[5 rows x 32 columns]"
      ]
     },
     "execution_count": 18,
     "metadata": {},
     "output_type": "execute_result"
    }
   ],
   "source": [
    "df_player_teams = df_batting[['playerID','teamID']].drop_duplicates().copy()\n",
    "df_age = df_age.merge(df_player_teams, on='playerID', how='left')\n",
    "df_age.head()"
   ]
  },
  {
   "cell_type": "markdown",
   "metadata": {},
   "source": [
    "Finally, we'll look at the total number of World Series wins per athlete. To accomplish this, we'll merge the Teams and Batting tables on TeamID and YearID, thereby mapping the WSWin column to each athlete according to whether or not they won the Series that year. Grouping by playerID and summing the WSWin column, we'll get the total number of World Series win per athlete.\n",
    "\n",
    "To ensure that we're not duplicating rows along the way, we'll check how many entries there are at the beginning and end of the merge process."
   ]
  },
  {
   "cell_type": "code",
   "execution_count": 19,
   "metadata": {
    "collapsed": false
   },
   "outputs": [
    {
     "name": "stdout",
     "output_type": "stream",
     "text": [
      "Total 116 World Series winning teams.\n",
      "101332\n"
     ]
    }
   ],
   "source": [
    "df_teams['WSWin'] = df_teams['WSWin'].apply(lambda x: 1 if x=='Y' else 0)\n",
    "print('Total {} World Series winning teams.'.format(df_teams[['teamID','yearID','WSWin']]['WSWin'].sum()))\n",
    "print(df_batting['yearID'].count())"
   ]
  },
  {
   "cell_type": "code",
   "execution_count": 20,
   "metadata": {
    "collapsed": false
   },
   "outputs": [
    {
     "name": "stdout",
     "output_type": "stream",
     "text": [
      "After merging, total 116 World Series winning teams.\n"
     ]
    }
   ],
   "source": [
    "df_wins = df_batting.merge(df_teams, on=['teamID','yearID'])\n",
    "print('After merging, total {} World Series winning teams.'.format(df_wins[['teamID','yearID','WSWin']].drop_duplicates()['WSWin'].sum()))"
   ]
  },
  {
   "cell_type": "code",
   "execution_count": 21,
   "metadata": {
    "collapsed": false
   },
   "outputs": [
    {
     "name": "stdout",
     "output_type": "stream",
     "text": [
      "There are a total 3974 World Series wins when summing by player, for approximately 34.26 players per team.\n"
     ]
    }
   ],
   "source": [
    "# Group by playerID and sum the World Series wins per athlete.\n",
    "df_wins = pd.DataFrame(df_wins[['playerID','WSWin']].groupby('playerID')['WSWin'].sum())\n",
    "print('There are a total {} World Series wins when summing by player, for approximately {:.2f} players per team.'.format(df_wins['WSWin'].sum(),df_wins['WSWin'].sum()/df_teams[['teamID','yearID','WSWin']]['WSWin'].sum()))"
   ]
  },
  {
   "cell_type": "markdown",
   "metadata": {},
   "source": [
    "As a last step in the data wrangling process, we'll merge these statistics per player back with the original df_age DataFrame."
   ]
  },
  {
   "cell_type": "code",
   "execution_count": 22,
   "metadata": {
    "collapsed": false
   },
   "outputs": [
    {
     "data": {
      "text/html": [
       "<div>\n",
       "<table border=\"1\" class=\"dataframe\">\n",
       "  <thead>\n",
       "    <tr style=\"text-align: right;\">\n",
       "      <th></th>\n",
       "      <th>playerID</th>\n",
       "      <th>birthYear</th>\n",
       "      <th>birthMonth</th>\n",
       "      <th>birthDay</th>\n",
       "      <th>birthCountry</th>\n",
       "      <th>birthState</th>\n",
       "      <th>birthCity</th>\n",
       "      <th>deathYear</th>\n",
       "      <th>deathMonth</th>\n",
       "      <th>deathDay</th>\n",
       "      <th>...</th>\n",
       "      <th>bbrefID</th>\n",
       "      <th>birth</th>\n",
       "      <th>death</th>\n",
       "      <th>age</th>\n",
       "      <th>max_salary</th>\n",
       "      <th>mean_salary</th>\n",
       "      <th>min_salary</th>\n",
       "      <th>inducted</th>\n",
       "      <th>teamID</th>\n",
       "      <th>WSWin</th>\n",
       "    </tr>\n",
       "  </thead>\n",
       "  <tbody>\n",
       "    <tr>\n",
       "      <th>0</th>\n",
       "      <td>aaronto01</td>\n",
       "      <td>1939.0</td>\n",
       "      <td>8.0</td>\n",
       "      <td>5.0</td>\n",
       "      <td>USA</td>\n",
       "      <td>AL</td>\n",
       "      <td>Mobile</td>\n",
       "      <td>1984.0</td>\n",
       "      <td>8.0</td>\n",
       "      <td>16.0</td>\n",
       "      <td>...</td>\n",
       "      <td>aaronto01</td>\n",
       "      <td>1939-08-05</td>\n",
       "      <td>1984-08-16</td>\n",
       "      <td>45.032170</td>\n",
       "      <td>NaN</td>\n",
       "      <td>NaN</td>\n",
       "      <td>NaN</td>\n",
       "      <td>N</td>\n",
       "      <td>ML1</td>\n",
       "      <td>0.0</td>\n",
       "    </tr>\n",
       "    <tr>\n",
       "      <th>1</th>\n",
       "      <td>aaronto01</td>\n",
       "      <td>1939.0</td>\n",
       "      <td>8.0</td>\n",
       "      <td>5.0</td>\n",
       "      <td>USA</td>\n",
       "      <td>AL</td>\n",
       "      <td>Mobile</td>\n",
       "      <td>1984.0</td>\n",
       "      <td>8.0</td>\n",
       "      <td>16.0</td>\n",
       "      <td>...</td>\n",
       "      <td>aaronto01</td>\n",
       "      <td>1939-08-05</td>\n",
       "      <td>1984-08-16</td>\n",
       "      <td>45.032170</td>\n",
       "      <td>NaN</td>\n",
       "      <td>NaN</td>\n",
       "      <td>NaN</td>\n",
       "      <td>N</td>\n",
       "      <td>ATL</td>\n",
       "      <td>0.0</td>\n",
       "    </tr>\n",
       "    <tr>\n",
       "      <th>2</th>\n",
       "      <td>abadijo01</td>\n",
       "      <td>1854.0</td>\n",
       "      <td>11.0</td>\n",
       "      <td>4.0</td>\n",
       "      <td>USA</td>\n",
       "      <td>PA</td>\n",
       "      <td>Philadelphia</td>\n",
       "      <td>1905.0</td>\n",
       "      <td>5.0</td>\n",
       "      <td>17.0</td>\n",
       "      <td>...</td>\n",
       "      <td>abadijo01</td>\n",
       "      <td>1854-11-04</td>\n",
       "      <td>1905-05-17</td>\n",
       "      <td>50.529774</td>\n",
       "      <td>NaN</td>\n",
       "      <td>NaN</td>\n",
       "      <td>NaN</td>\n",
       "      <td>N</td>\n",
       "      <td>PH3</td>\n",
       "      <td>0.0</td>\n",
       "    </tr>\n",
       "    <tr>\n",
       "      <th>3</th>\n",
       "      <td>abadijo01</td>\n",
       "      <td>1854.0</td>\n",
       "      <td>11.0</td>\n",
       "      <td>4.0</td>\n",
       "      <td>USA</td>\n",
       "      <td>PA</td>\n",
       "      <td>Philadelphia</td>\n",
       "      <td>1905.0</td>\n",
       "      <td>5.0</td>\n",
       "      <td>17.0</td>\n",
       "      <td>...</td>\n",
       "      <td>abadijo01</td>\n",
       "      <td>1854-11-04</td>\n",
       "      <td>1905-05-17</td>\n",
       "      <td>50.529774</td>\n",
       "      <td>NaN</td>\n",
       "      <td>NaN</td>\n",
       "      <td>NaN</td>\n",
       "      <td>N</td>\n",
       "      <td>BR2</td>\n",
       "      <td>0.0</td>\n",
       "    </tr>\n",
       "    <tr>\n",
       "      <th>4</th>\n",
       "      <td>abbated01</td>\n",
       "      <td>1877.0</td>\n",
       "      <td>4.0</td>\n",
       "      <td>15.0</td>\n",
       "      <td>USA</td>\n",
       "      <td>PA</td>\n",
       "      <td>Latrobe</td>\n",
       "      <td>1957.0</td>\n",
       "      <td>1.0</td>\n",
       "      <td>6.0</td>\n",
       "      <td>...</td>\n",
       "      <td>abbated01</td>\n",
       "      <td>1877-04-15</td>\n",
       "      <td>1957-01-06</td>\n",
       "      <td>79.726215</td>\n",
       "      <td>NaN</td>\n",
       "      <td>NaN</td>\n",
       "      <td>NaN</td>\n",
       "      <td>N</td>\n",
       "      <td>PHI</td>\n",
       "      <td>1.0</td>\n",
       "    </tr>\n",
       "  </tbody>\n",
       "</table>\n",
       "<p>5 rows × 33 columns</p>\n",
       "</div>"
      ],
      "text/plain": [
       "    playerID  birthYear  birthMonth  birthDay birthCountry birthState  \\\n",
       "0  aaronto01     1939.0         8.0       5.0          USA         AL   \n",
       "1  aaronto01     1939.0         8.0       5.0          USA         AL   \n",
       "2  abadijo01     1854.0        11.0       4.0          USA         PA   \n",
       "3  abadijo01     1854.0        11.0       4.0          USA         PA   \n",
       "4  abbated01     1877.0         4.0      15.0          USA         PA   \n",
       "\n",
       "      birthCity  deathYear  deathMonth  deathDay  ...     bbrefID      birth  \\\n",
       "0        Mobile     1984.0         8.0      16.0  ...   aaronto01 1939-08-05   \n",
       "1        Mobile     1984.0         8.0      16.0  ...   aaronto01 1939-08-05   \n",
       "2  Philadelphia     1905.0         5.0      17.0  ...   abadijo01 1854-11-04   \n",
       "3  Philadelphia     1905.0         5.0      17.0  ...   abadijo01 1854-11-04   \n",
       "4       Latrobe     1957.0         1.0       6.0  ...   abbated01 1877-04-15   \n",
       "\n",
       "       death        age max_salary mean_salary  min_salary  inducted teamID  \\\n",
       "0 1984-08-16  45.032170        NaN         NaN         NaN         N    ML1   \n",
       "1 1984-08-16  45.032170        NaN         NaN         NaN         N    ATL   \n",
       "2 1905-05-17  50.529774        NaN         NaN         NaN         N    PH3   \n",
       "3 1905-05-17  50.529774        NaN         NaN         NaN         N    BR2   \n",
       "4 1957-01-06  79.726215        NaN         NaN         NaN         N    PHI   \n",
       "\n",
       "  WSWin  \n",
       "0   0.0  \n",
       "1   0.0  \n",
       "2   0.0  \n",
       "3   0.0  \n",
       "4   1.0  \n",
       "\n",
       "[5 rows x 33 columns]"
      ]
     },
     "execution_count": 22,
     "metadata": {},
     "output_type": "execute_result"
    }
   ],
   "source": [
    "df_wins['playerID'] = df_wins.index\n",
    "df_age = df_age.merge(df_wins, on='playerID', how='left')\n",
    "df_age.head()"
   ]
  },
  {
   "cell_type": "markdown",
   "metadata": {},
   "source": [
    "Finally, the data wrangling phase is complete and we can begin to analyze the data.\n",
    "\n",
    "## Relationship Between Salary and Player Longevity\n",
    "\n",
    "To begin, we'll simply plot the two variables and attempt to observe any interesting results."
   ]
  },
  {
   "cell_type": "code",
   "execution_count": 23,
   "metadata": {
    "collapsed": false
   },
   "outputs": [
    {
     "data": {
      "image/png": "[encoded data removed]",
      "text/plain": [
       "<matplotlib.figure.Figure at 0x7fc8c28b84a8>"
      ]
     },
     "metadata": {},
     "output_type": "display_data"
    }
   ],
   "source": [
    "f, (ax1, ax2, ax3) = plt.subplots(1, 3, sharey=True, figsize=(10, 3))\n",
    "plt.suptitle('Player Salary vs Longevity');\n",
    "xticks = [0.0e7, 0.2e7, 0.4e7, 0.6e7, 0.8e7, 1.0e7]\n",
    "df_age[['age','min_salary']].plot(kind='scatter', x='min_salary', y='age', ax=ax1, xticks=xticks);\n",
    "df_age[['age','mean_salary']].plot(kind='scatter', x='mean_salary', y='age', ax=ax2, xticks=xticks);\n",
    "df_age[['age','max_salary']].plot(kind='scatter', x='max_salary', y='age', ax=ax3, xticks=xticks);\n",
    "#ax2.get_yaxis().set_ticklabels([])\n",
    "#ax1.set_xlabel('Time (s)'); ax2.set_xlabel('Time (s)');\n",
    "#ax1.legend(); ax2.legend();\n",
    "ax1.set_ylabel('Lifespan');"
   ]
  },
  {
   "cell_type": "markdown",
   "metadata": {},
   "source": [
    "Rather clearly, no trend in the data immediately jumps out. There doesn't appear to be any linear correlation, either, which we can easily verify:"
   ]
  },
  {
   "cell_type": "code",
   "execution_count": 24,
   "metadata": {
    "collapsed": false
   },
   "outputs": [
    {
     "data": {
      "text/plain": [
       "age            1.000000\n",
       "min_salary     0.156506\n",
       "mean_salary   -0.070938\n",
       "max_salary    -0.119520\n",
       "Name: age, dtype: float64"
      ]
     },
     "execution_count": 24,
     "metadata": {},
     "output_type": "execute_result"
    }
   ],
   "source": [
    "df_age[['age','min_salary','mean_salary','max_salary']].corr()['age']"
   ]
  },
  {
   "cell_type": "markdown",
   "metadata": {},
   "source": [
    "These Pearson's r coefficients are very near zero, indicating no linear correlation."
   ]
  },
  {
   "cell_type": "markdown",
   "metadata": {},
   "source": [
    "## Relationship Between Hall of Fame Induction and Player Longevity\n",
    "\n",
    "Next we'll look at whether induction into the Baseball Hall of Fame in any way shifts the distribution of player longevity:"
   ]
  },
  {
   "cell_type": "code",
   "execution_count": 25,
   "metadata": {
    "collapsed": false
   },
   "outputs": [
    {
     "data": {
      "image/png": "[encoded data removed]",
      "text/plain": [
       "<matplotlib.figure.Figure at 0x7fc8c28a1828>"
      ]
     },
     "metadata": {},
     "output_type": "display_data"
    }
   ],
   "source": [
    "df_age[['age','inducted']].boxplot(by='inducted', return_type='axes');\n",
    "plt.suptitle('Induction into the Hall of Fame vs Longevity');\n",
    "plt.ylabel('Longevity')\n",
    "plt.xlabel('Induction into the Hall of Fame')\n",
    "plt.title('');"
   ]
  },
  {
   "cell_type": "markdown",
   "metadata": {},
   "source": [
    "The distribution of player ages having been inducted into the Hall of Fame has shorter tails and fewer outliers than does the population minus that set, while otherwise looking very similar. At this point we could do hypothesis testing to see whether the sample of inductees is from the same distribution as the population, whose parameters we know - as a guess, the null hypothesis would not be rejected. "
   ]
  },
  {
   "cell_type": "markdown",
   "metadata": {},
   "source": [
    "## Relationship Between Teams Played For and Longevity\n",
    "\n",
    "Next we'll look at similar boxplots, grouping instead by teams for which the players have played. This might give a sense as to whether, say, players that played for Toronto live longer."
   ]
  },
  {
   "cell_type": "code",
   "execution_count": 44,
   "metadata": {
    "collapsed": false
   },
   "outputs": [
    {
     "data": {
      "text/html": [
       "<div>\n",
       "<table border=\"1\" class=\"dataframe\">\n",
       "  <thead>\n",
       "    <tr style=\"text-align: right;\">\n",
       "      <th></th>\n",
       "      <th></th>\n",
       "      <th>age</th>\n",
       "    </tr>\n",
       "    <tr>\n",
       "      <th>teamID</th>\n",
       "      <th></th>\n",
       "      <th></th>\n",
       "    </tr>\n",
       "  </thead>\n",
       "  <tbody>\n",
       "    <tr>\n",
       "      <th rowspan=\"8\" valign=\"top\">ALT</th>\n",
       "      <th>count</th>\n",
       "      <td>17.000000</td>\n",
       "    </tr>\n",
       "    <tr>\n",
       "      <th>mean</th>\n",
       "      <td>62.071426</td>\n",
       "    </tr>\n",
       "    <tr>\n",
       "      <th>std</th>\n",
       "      <td>18.487432</td>\n",
       "    </tr>\n",
       "    <tr>\n",
       "      <th>min</th>\n",
       "      <td>29.032170</td>\n",
       "    </tr>\n",
       "    <tr>\n",
       "      <th>25%</th>\n",
       "      <td>47.312799</td>\n",
       "    </tr>\n",
       "    <tr>\n",
       "      <th>50%</th>\n",
       "      <td>68.613279</td>\n",
       "    </tr>\n",
       "    <tr>\n",
       "      <th>75%</th>\n",
       "      <td>75.299110</td>\n",
       "    </tr>\n",
       "    <tr>\n",
       "      <th>max</th>\n",
       "      <td>89.344285</td>\n",
       "    </tr>\n",
       "    <tr>\n",
       "      <th rowspan=\"8\" valign=\"top\">ANA</th>\n",
       "      <th>count</th>\n",
       "      <td>1.000000</td>\n",
       "    </tr>\n",
       "    <tr>\n",
       "      <th>mean</th>\n",
       "      <td>56.815880</td>\n",
       "    </tr>\n",
       "    <tr>\n",
       "      <th>std</th>\n",
       "      <td>NaN</td>\n",
       "    </tr>\n",
       "    <tr>\n",
       "      <th>min</th>\n",
       "      <td>56.815880</td>\n",
       "    </tr>\n",
       "    <tr>\n",
       "      <th>25%</th>\n",
       "      <td>56.815880</td>\n",
       "    </tr>\n",
       "    <tr>\n",
       "      <th>50%</th>\n",
       "      <td>56.815880</td>\n",
       "    </tr>\n",
       "    <tr>\n",
       "      <th>75%</th>\n",
       "      <td>56.815880</td>\n",
       "    </tr>\n",
       "    <tr>\n",
       "      <th>max</th>\n",
       "      <td>56.815880</td>\n",
       "    </tr>\n",
       "    <tr>\n",
       "      <th rowspan=\"8\" valign=\"top\">ARI</th>\n",
       "      <th>count</th>\n",
       "      <td>2.000000</td>\n",
       "    </tr>\n",
       "    <tr>\n",
       "      <th>mean</th>\n",
       "      <td>31.104723</td>\n",
       "    </tr>\n",
       "    <tr>\n",
       "      <th>std</th>\n",
       "      <td>3.682182</td>\n",
       "    </tr>\n",
       "    <tr>\n",
       "      <th>min</th>\n",
       "      <td>28.501027</td>\n",
       "    </tr>\n",
       "    <tr>\n",
       "      <th>25%</th>\n",
       "      <td>29.802875</td>\n",
       "    </tr>\n",
       "    <tr>\n",
       "      <th>50%</th>\n",
       "      <td>31.104723</td>\n",
       "    </tr>\n",
       "    <tr>\n",
       "      <th>75%</th>\n",
       "      <td>32.406571</td>\n",
       "    </tr>\n",
       "    <tr>\n",
       "      <th>max</th>\n",
       "      <td>33.708419</td>\n",
       "    </tr>\n",
       "    <tr>\n",
       "      <th rowspan=\"6\" valign=\"top\">ATL</th>\n",
       "      <th>count</th>\n",
       "      <td>65.000000</td>\n",
       "    </tr>\n",
       "    <tr>\n",
       "      <th>mean</th>\n",
       "      <td>57.287717</td>\n",
       "    </tr>\n",
       "    <tr>\n",
       "      <th>std</th>\n",
       "      <td>14.257392</td>\n",
       "    </tr>\n",
       "    <tr>\n",
       "      <th>min</th>\n",
       "      <td>26.184805</td>\n",
       "    </tr>\n",
       "    <tr>\n",
       "      <th>25%</th>\n",
       "      <td>48.722793</td>\n",
       "    </tr>\n",
       "    <tr>\n",
       "      <th>50%</th>\n",
       "      <td>59.893224</td>\n",
       "    </tr>\n",
       "    <tr>\n",
       "      <th>...</th>\n",
       "      <th>...</th>\n",
       "      <td>...</td>\n",
       "    </tr>\n",
       "    <tr>\n",
       "      <th rowspan=\"6\" valign=\"top\">WS7</th>\n",
       "      <th>std</th>\n",
       "      <td>17.719583</td>\n",
       "    </tr>\n",
       "    <tr>\n",
       "      <th>min</th>\n",
       "      <td>26.201232</td>\n",
       "    </tr>\n",
       "    <tr>\n",
       "      <th>25%</th>\n",
       "      <td>52.681725</td>\n",
       "    </tr>\n",
       "    <tr>\n",
       "      <th>50%</th>\n",
       "      <td>70.231348</td>\n",
       "    </tr>\n",
       "    <tr>\n",
       "      <th>75%</th>\n",
       "      <td>76.298426</td>\n",
       "    </tr>\n",
       "    <tr>\n",
       "      <th>max</th>\n",
       "      <td>91.356605</td>\n",
       "    </tr>\n",
       "    <tr>\n",
       "      <th rowspan=\"8\" valign=\"top\">WS8</th>\n",
       "      <th>count</th>\n",
       "      <td>72.000000</td>\n",
       "    </tr>\n",
       "    <tr>\n",
       "      <th>mean</th>\n",
       "      <td>61.413834</td>\n",
       "    </tr>\n",
       "    <tr>\n",
       "      <th>std</th>\n",
       "      <td>18.458790</td>\n",
       "    </tr>\n",
       "    <tr>\n",
       "      <th>min</th>\n",
       "      <td>24.396988</td>\n",
       "    </tr>\n",
       "    <tr>\n",
       "      <th>25%</th>\n",
       "      <td>49.451745</td>\n",
       "    </tr>\n",
       "    <tr>\n",
       "      <th>50%</th>\n",
       "      <td>63.908282</td>\n",
       "    </tr>\n",
       "    <tr>\n",
       "      <th>75%</th>\n",
       "      <td>74.958932</td>\n",
       "    </tr>\n",
       "    <tr>\n",
       "      <th>max</th>\n",
       "      <td>99.561944</td>\n",
       "    </tr>\n",
       "    <tr>\n",
       "      <th rowspan=\"8\" valign=\"top\">WS9</th>\n",
       "      <th>count</th>\n",
       "      <td>37.000000</td>\n",
       "    </tr>\n",
       "    <tr>\n",
       "      <th>mean</th>\n",
       "      <td>60.710213</td>\n",
       "    </tr>\n",
       "    <tr>\n",
       "      <th>std</th>\n",
       "      <td>18.735128</td>\n",
       "    </tr>\n",
       "    <tr>\n",
       "      <th>min</th>\n",
       "      <td>20.290212</td>\n",
       "    </tr>\n",
       "    <tr>\n",
       "      <th>25%</th>\n",
       "      <td>50.781656</td>\n",
       "    </tr>\n",
       "    <tr>\n",
       "      <th>50%</th>\n",
       "      <td>63.731691</td>\n",
       "    </tr>\n",
       "    <tr>\n",
       "      <th>75%</th>\n",
       "      <td>71.140315</td>\n",
       "    </tr>\n",
       "    <tr>\n",
       "      <th>max</th>\n",
       "      <td>94.551677</td>\n",
       "    </tr>\n",
       "    <tr>\n",
       "      <th rowspan=\"8\" valign=\"top\">WSU</th>\n",
       "      <th>count</th>\n",
       "      <td>38.000000</td>\n",
       "    </tr>\n",
       "    <tr>\n",
       "      <th>mean</th>\n",
       "      <td>62.837854</td>\n",
       "    </tr>\n",
       "    <tr>\n",
       "      <th>std</th>\n",
       "      <td>17.646760</td>\n",
       "    </tr>\n",
       "    <tr>\n",
       "      <th>min</th>\n",
       "      <td>29.253936</td>\n",
       "    </tr>\n",
       "    <tr>\n",
       "      <th>25%</th>\n",
       "      <td>49.327858</td>\n",
       "    </tr>\n",
       "    <tr>\n",
       "      <th>50%</th>\n",
       "      <td>65.355236</td>\n",
       "    </tr>\n",
       "    <tr>\n",
       "      <th>75%</th>\n",
       "      <td>77.004107</td>\n",
       "    </tr>\n",
       "    <tr>\n",
       "      <th>max</th>\n",
       "      <td>92.640657</td>\n",
       "    </tr>\n",
       "  </tbody>\n",
       "</table>\n",
       "<p>1184 rows × 1 columns</p>\n",
       "</div>"
      ],
      "text/plain": [
       "                    age\n",
       "teamID                 \n",
       "ALT    count  17.000000\n",
       "       mean   62.071426\n",
       "       std    18.487432\n",
       "       min    29.032170\n",
       "       25%    47.312799\n",
       "       50%    68.613279\n",
       "       75%    75.299110\n",
       "       max    89.344285\n",
       "ANA    count   1.000000\n",
       "       mean   56.815880\n",
       "       std          NaN\n",
       "       min    56.815880\n",
       "       25%    56.815880\n",
       "       50%    56.815880\n",
       "       75%    56.815880\n",
       "       max    56.815880\n",
       "ARI    count   2.000000\n",
       "       mean   31.104723\n",
       "       std     3.682182\n",
       "       min    28.501027\n",
       "       25%    29.802875\n",
       "       50%    31.104723\n",
       "       75%    32.406571\n",
       "       max    33.708419\n",
       "ATL    count  65.000000\n",
       "       mean   57.287717\n",
       "       std    14.257392\n",
       "       min    26.184805\n",
       "       25%    48.722793\n",
       "       50%    59.893224\n",
       "...                 ...\n",
       "WS7    std    17.719583\n",
       "       min    26.201232\n",
       "       25%    52.681725\n",
       "       50%    70.231348\n",
       "       75%    76.298426\n",
       "       max    91.356605\n",
       "WS8    count  72.000000\n",
       "       mean   61.413834\n",
       "       std    18.458790\n",
       "       min    24.396988\n",
       "       25%    49.451745\n",
       "       50%    63.908282\n",
       "       75%    74.958932\n",
       "       max    99.561944\n",
       "WS9    count  37.000000\n",
       "       mean   60.710213\n",
       "       std    18.735128\n",
       "       min    20.290212\n",
       "       25%    50.781656\n",
       "       50%    63.731691\n",
       "       75%    71.140315\n",
       "       max    94.551677\n",
       "WSU    count  38.000000\n",
       "       mean   62.837854\n",
       "       std    17.646760\n",
       "       min    29.253936\n",
       "       25%    49.327858\n",
       "       50%    65.355236\n",
       "       75%    77.004107\n",
       "       max    92.640657\n",
       "\n",
       "[1184 rows x 1 columns]"
      ]
     },
     "execution_count": 44,
     "metadata": {},
     "output_type": "execute_result"
    }
   ],
   "source": [
    "df_age[['age','teamID']].groupby('teamID').describe()"
   ]
  },
  {
   "cell_type": "markdown",
   "metadata": {},
   "source": [
    "At a glance these statistics don't reveal any insights. It's clear that we're looking simultaneously at a very large number of teams, some of whom have only a few players linked to them, and hence may be skewing our data. Below, we'll restrict this collection to only teams that have at least 100 players linked to them, and generate boxplots of the player longevity:"
   ]
  },
  {
   "cell_type": "code",
   "execution_count": 28,
   "metadata": {
    "collapsed": false
   },
   "outputs": [
    {
     "data": {
      "image/png": "[encoded data removed]",
      "text/plain": [
       "<matplotlib.figure.Figure at 0x7fc8c0ffaf28>"
      ]
     },
     "metadata": {},
     "output_type": "display_data"
    }
   ],
   "source": [
    "teams = (df_age[['age','teamID']].groupby('teamID').agg('count') > 100).copy()\n",
    "teams.rename(columns={'age':'min100players'}, inplace=True)\n",
    "min100 = list(teams[teams['min100players']].index)\n",
    "min100\n",
    "df_age[['age','teamID']].loc[df_age['teamID'].isin(min100)].boxplot(by='teamID', return_type='axes', figsize=(10,3));\n",
    "plt.suptitle('Team vs Longevity - Teams with > 100 players');\n",
    "plt.ylabel('Longevity')\n",
    "plt.xlabel('Team')\n",
    "plt.title('');"
   ]
  },
  {
   "cell_type": "markdown",
   "metadata": {},
   "source": [
    "Some of the team boxplots above - BL2, LS2, PH4, SL4 - deviate substantially from the population as seen before. Let's find out more about them:"
   ]
  },
  {
   "cell_type": "code",
   "execution_count": 29,
   "metadata": {
    "collapsed": false
   },
   "outputs": [
    {
     "data": {
      "image/png": "[encoded data removed]",
      "text/plain": [
       "<matplotlib.figure.Figure at 0x7fc8c0f7fa58>"
      ]
     },
     "metadata": {},
     "output_type": "display_data"
    }
   ],
   "source": [
    "odd_teams = ['BL2', 'LS2', 'PH4', 'SL4']\n",
    "f, (ax1, ax2) = plt.subplots(1, 2, sharey=True)\n",
    "df_age[['age','teamID']].loc[df_age['teamID'].isin(odd_teams)].boxplot(by='teamID', return_type='axes', ax=ax1);\n",
    "df_age[['age']].boxplot(return_type='axes', ax=ax2);\n",
    "ax1.set_ylabel('Longevity')\n",
    "ax1.set_xlabel('Team')\n",
    "ax2.set_xlabel('Population')\n",
    "plt.suptitle('Team vs Longevity');\n",
    "ax1.set_title('');"
   ]
  },
  {
   "cell_type": "code",
   "execution_count": 30,
   "metadata": {
    "collapsed": false
   },
   "outputs": [
    {
     "data": {
      "text/html": [
       "<div>\n",
       "<table border=\"1\" class=\"dataframe\">\n",
       "  <thead>\n",
       "    <tr style=\"text-align: right;\">\n",
       "      <th></th>\n",
       "      <th>teamID</th>\n",
       "      <th>name</th>\n",
       "      <th>lgID</th>\n",
       "    </tr>\n",
       "  </thead>\n",
       "  <tbody>\n",
       "    <tr>\n",
       "      <th>95</th>\n",
       "      <td>BL2</td>\n",
       "      <td>Baltimore Orioles</td>\n",
       "      <td>AA</td>\n",
       "    </tr>\n",
       "    <tr>\n",
       "      <th>101</th>\n",
       "      <td>LS2</td>\n",
       "      <td>Louisville Eclipse</td>\n",
       "      <td>AA</td>\n",
       "    </tr>\n",
       "    <tr>\n",
       "      <th>102</th>\n",
       "      <td>PH4</td>\n",
       "      <td>Philadelphia Athletics</td>\n",
       "      <td>AA</td>\n",
       "    </tr>\n",
       "    <tr>\n",
       "      <th>105</th>\n",
       "      <td>SL4</td>\n",
       "      <td>St. Louis Brown Stockings</td>\n",
       "      <td>AA</td>\n",
       "    </tr>\n",
       "    <tr>\n",
       "      <th>123</th>\n",
       "      <td>SL4</td>\n",
       "      <td>St. Louis Browns</td>\n",
       "      <td>AA</td>\n",
       "    </tr>\n",
       "    <tr>\n",
       "      <th>164</th>\n",
       "      <td>LS2</td>\n",
       "      <td>Louisville Colonels</td>\n",
       "      <td>AA</td>\n",
       "    </tr>\n",
       "  </tbody>\n",
       "</table>\n",
       "</div>"
      ],
      "text/plain": [
       "    teamID                       name lgID\n",
       "95     BL2          Baltimore Orioles   AA\n",
       "101    LS2         Louisville Eclipse   AA\n",
       "102    PH4     Philadelphia Athletics   AA\n",
       "105    SL4  St. Louis Brown Stockings   AA\n",
       "123    SL4           St. Louis Browns   AA\n",
       "164    LS2        Louisville Colonels   AA"
      ]
     },
     "execution_count": 30,
     "metadata": {},
     "output_type": "execute_result"
    }
   ],
   "source": [
    "df_teams[['teamID','name','lgID']].loc[df_teams['teamID'].isin(odd_teams)].drop_duplicates()"
   ]
  },
  {
   "cell_type": "markdown",
   "metadata": {},
   "source": [
    "Interestingly, these teams have mean lifespans about 10 years below the population mean, and 25-75 quantiles as much as 15 years below the population. All the teams above belonged to the American Association league, which existed only from 1882 to 1891. Hence the discrepancy in lifespan can largely be attributed to the increase in <a href='http://u.demog.berkeley.edu/~andrew/1918/figure2.html'>life expectancy throughout the 20th century</a> - in 1900, the male life expectancy was 46.3 years, as compared with 73.8 in 1998. "
   ]
  },
  {
   "cell_type": "markdown",
   "metadata": {},
   "source": [
    "## Relationship Between World Series Wins and Longevity\n",
    "\n",
    "Finally, we'll look at whether winning one or multiple World Series affects the longevity distribution."
   ]
  },
  {
   "cell_type": "code",
   "execution_count": 31,
   "metadata": {
    "collapsed": false
   },
   "outputs": [
    {
     "data": {
      "image/png": "[encoded data removed]",
      "text/plain": [
       "<matplotlib.figure.Figure at 0x7fc8c0fb85f8>"
      ]
     },
     "metadata": {},
     "output_type": "display_data"
    }
   ],
   "source": [
    "df_age[['age','WSWin']].plot(kind='scatter', x='WSWin', y='age');\n",
    "plt.suptitle('World Series Wins vs Longevity - Correlation={:.3f}'.format(df_age[['age','WSWin']].corr()['age']['WSWin']));\n",
    "#ax2.get_yaxis().set_ticklabels([])\n",
    "#ax1.set_xlabel('Time (s)'); ax2.set_xlabel('Time (s)');\n",
    "#ax1.legend(); ax2.legend();\n",
    "plt.ylabel('Lifespan');\n",
    "plt.xlabel('Number of World Series Wins');"
   ]
  },
  {
   "cell_type": "markdown",
   "metadata": {},
   "source": [
    "Interestingly, up to 5 World Series wins, there's a distinct narrowing of the range of values. At 6 and above, the pattern is broken and the values are erratic. Let's look at boxplots for the zero to five wins, however:"
   ]
  },
  {
   "cell_type": "code",
   "execution_count": 32,
   "metadata": {
    "collapsed": false
   },
   "outputs": [
    {
     "data": {
      "image/png": "[encoded data removed]",
      "text/plain": [
       "<matplotlib.figure.Figure at 0x7fc8c0fd8e48>"
      ]
     },
     "metadata": {},
     "output_type": "display_data"
    }
   ],
   "source": [
    "df_age[['age','WSWin']].loc[df_age['WSWin'] < 6].boxplot(by='WSWin', return_type='axes', figsize=(10,3));\n",
    "plt.suptitle('World Series Wins vs Longevity');\n",
    "plt.ylabel('Longevity')\n",
    "plt.xlabel('Number of World Series Wins')\n",
    "plt.title('');"
   ]
  },
  {
   "cell_type": "markdown",
   "metadata": {},
   "source": [
    "The narrowing of the distribution from the bottom end of longevity can likely be explained that the number of World Series Wins variable itself has a temporal component - in order to win more World Series, an athlete needs to have lived longer, thus athletes dying at younger ages would not have been able to win as many.\n",
    "\n",
    "From the high end of the longevity spectrum, it's *possible* that those winning more series were subject to considerable overtraining or doping in some fashion that may have decreased their life expectancy. Additionally, it's known that some great athletes possess genetic conditions that enhance their performance - such as an excess of oxygen-carrying red blood cells - which too can potentially detract from longevity. \n",
    "\n",
    "A more likely explanation for the reduction in the high end of the distrbution as the number of wins increases is that this data set includes World Series wins as far back as 1903, when only 16 teams made up the league. Thus the likelihood of players winning a World Series during their career was twice as high at the beginning of the century as it is now, when there are almost twice as many teams in the league. With the change in life expectancy over the century as mentioned before, it's likely that the greater the number of World Series wins, the more likely a player is to have been alive earlier in the century. "
   ]
  },
  {
   "cell_type": "markdown",
   "metadata": {},
   "source": [
    "## Conclusions"
   ]
  },
  {
   "cell_type": "markdown",
   "metadata": {},
   "source": [
    "The data examined above demonstrates a narrowing distribution of player lifespan as the max salary and number of World Series wins of an athlete increases. These plots are reproduced below:"
   ]
  },
  {
   "cell_type": "code",
   "execution_count": 33,
   "metadata": {
    "collapsed": false
   },
   "outputs": [
    {
     "data": {
      "image/png": "[encoded data removed]",
      "text/plain": [
       "<matplotlib.figure.Figure at 0x7fc8c31d6278>"
      ]
     },
     "metadata": {},
     "output_type": "display_data"
    }
   ],
   "source": [
    "f, (ax1, ax2) = plt.subplots(1, 2, sharey=False, figsize=(10, 3))\n",
    "plt.suptitle('Salary and World Series Wins vs Longevity');\n",
    "df_age[['age','max_salary']].plot(kind='scatter', x='max_salary', y='age', ax=ax1);\n",
    "df_age[['age','WSWin']].plot(kind='scatter', x='WSWin', y='age', ax=ax2);\n",
    "ax1.set_ylabel('Lifespan');\n",
    "ax2.set_ylabel('Lifespan');\n",
    "ax1.set_xlabel('Max Salary');\n",
    "ax2.set_xlabel('Number of World Series Wins');"
   ]
  },
  {
   "cell_type": "markdown",
   "metadata": {},
   "source": [
    "As explained in the analysis of World Series wins, the narrowing of the distribution likely has most to do with the era that the players were alive - the more wins, the earlier in the century they were alive, and hence a naturally lower life expectancy.\n",
    "\n",
    "In the case of maximum salary, the distribution does not narrow quite as distinctly, athough a narrowing effect is certainly discernible. As with World Series wins, the bottom end narrowing has most to do with the requirement of living longer in order to earn more. The narrowing of the higher end is <a href='http://jamanetwork.com/journals/jama/article-abstract/2513561'>open to speculation and poorly understood by academics</a>, though it is suggested that different income levels correlate with different health behaviours, which would have a material affect on life expectancy.\n",
    "\n",
    "With respect to limitations of this report and dataset, it's worth noting that the Lahman Baseball dataset is purported to contain complete Major League Baseball statistics from 1871 through 2014. Thus, to the extent that the information is free of errors, it puts analysts in the privileged situation of dealing with the population rather than a sample. Nevertheless, it is clear from the amount of missing data that the dataset has considerably more information about modern-day players than about those in the early days of the game - many players from the 1800s, for example, are missing birthdays. Thus, while we may have a representative view of the data, we do not have a perfect view.\n",
    "\n",
    "This report looked at several factors that may have affected player longevity, but the search was by no means exhaustive, and many other factors are potentially worthy of exploration. Player batting, for example, can be used as a measure of the physical activity of swinging a bat - could high numbers be an indicator for repetitive strain injuries, and be correlated with lower lifespan? \n",
    "\n",
    "Finally, this report would ideally be extended to calibrate a prediction model. Given what we know of an existing player's salary and World Series wins, can we predict his lifespan with any accuracy? Morbid, but interesting!"
   ]
  }
 ],
 "metadata": {
  "anaconda-cloud": {},
  "kernelspec": {
   "display_name": "Python [conda root]",
   "language": "python",
   "name": "conda-root-py"
  },
  "language_info": {
   "codemirror_mode": {
    "name": "ipython",
    "version": 3
   },
   "file_extension": ".py",
   "mimetype": "text/x-python",
   "name": "python",
   "nbconvert_exporter": "python",
   "pygments_lexer": "ipython3",
   "version": "3.5.2"
  }
 },
 "nbformat": 4,
 "nbformat_minor": 1
}
