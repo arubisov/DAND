{
 "cells": [
  {
   "cell_type": "markdown",
   "metadata": {},
   "source": [
    "# Statistics: The Science of Decisions Project Instructions\n",
    "\n",
    "## Background Information\n",
    "\n",
    "In a Stroop task, participants are presented with a list of words, with each word displayed in a color of ink. The participant’s task is to say out loud the color of the ink in which the word is printed. The task has two conditions: a congruent words condition, and an incongruent words condition. In the congruent words condition, the words being displayed are color words whose names match the colors in which they are printed: for example RED, BLUE. In the incongruent words condition, the words displayed are color words whose names do not match the colors in which they are printed: for example PURPLE, ORANGE. In each case, we measure the time it takes to name the ink colors in equally-sized lists. Each participant will go through and record a time from each condition.\n",
    "\n",
    "## Questions For Investigation\n",
    "\n",
    "### Q1. What is our independent variable? What is our dependent variable?\n",
    "\n",
    "The independent variable is the category of test being done - either congruent or incongruent.\n",
    "\n",
    "The dependent variable is the elapsed time a participant takes to name the ink colors for the respective category.\n",
    "\n",
    "### Q2. What is an appropriate set of hypotheses for this task? What kind of statistical test do you expect to perform? Justify your choices.\n",
    "\n",
    "We'll call $\\mu_C$ the population mean for the Congruent test, and $\\mu_I$ the population mean of the Incongruent test. $\\mu = \\mu_I - \\mu_C$ is the population mean of the difference. Our null and alternate hypotheses are:\n",
    "\n",
    "$$ H_0: \\mu = 0 $$\n",
    "$$ H_\\text{alt}: \\mu > 0 $$\n",
    "\n",
    "In plain terms, the null hypothesis is that the mean elapsed time per task is the same, so there is no difference between the Congruent and Incongruent tasks. The alternate hypothesis is that the mean Incongruent task is greater than the mean Congruent task. I have a chosen a directional difference since it's more psychologically demanding to focus on the ink colour and avoid reading the word, and hence a longer response time is likely.\n",
    "\n",
    "The test will be a one-tailed t-test. We have a limited number of samples and do not know the population means or standard deviations, and the underlying population distributions are likely to be Gaussian. It's one side-sided due to the directional inequality in the alternative hypothesis. This will be a dependent (paired-samples) t-test, since we are observing a given sample that has been tested twice. \n",
    "\n",
    "### Q3. Report some descriptive statistics regarding this dataset. Include at least one measure of central tendency and at least one measure of variability."
   ]
  },
  {
   "cell_type": "code",
   "execution_count": 2,
   "metadata": {
    "collapsed": false
   },
   "outputs": [],
   "source": [
    "import pandas as pd\n",
    "import numpy as np\n",
    "df = pd.read_csv('stroopdata.csv')"
   ]
  },
  {
   "cell_type": "markdown",
   "metadata": {},
   "source": [
    "As a measure of central tendency, we'll look at the mean response times for the two tests:"
   ]
  },
  {
   "cell_type": "code",
   "execution_count": 3,
   "metadata": {
    "collapsed": false
   },
   "outputs": [
    {
     "data": {
      "text/plain": [
       "Congruent      14.051125\n",
       "Incongruent    22.015917\n",
       "dtype: float64"
      ]
     },
     "execution_count": 3,
     "metadata": {},
     "output_type": "execute_result"
    }
   ],
   "source": [
    "df.mean()"
   ]
  },
  {
   "cell_type": "markdown",
   "metadata": {},
   "source": [
    "And as a measure of variability, the standard deviations. The Pandas library assumes that these are from a sample, so the sum of squared deviations are divided by (n-1):"
   ]
  },
  {
   "cell_type": "code",
   "execution_count": 4,
   "metadata": {
    "collapsed": false
   },
   "outputs": [
    {
     "data": {
      "text/plain": [
       "Congruent      3.559358\n",
       "Incongruent    4.797057\n",
       "dtype: float64"
      ]
     },
     "execution_count": 4,
     "metadata": {},
     "output_type": "execute_result"
    }
   ],
   "source": [
    "df.std()"
   ]
  },
  {
   "cell_type": "markdown",
   "metadata": {},
   "source": [
    "Just for good measure -- a little correlation:"
   ]
  },
  {
   "cell_type": "code",
   "execution_count": 5,
   "metadata": {
    "collapsed": false
   },
   "outputs": [
    {
     "data": {
      "text/html": [
       "<div>\n",
       "<table border=\"1\" class=\"dataframe\">\n",
       "  <thead>\n",
       "    <tr style=\"text-align: right;\">\n",
       "      <th></th>\n",
       "      <th>Congruent</th>\n",
       "      <th>Incongruent</th>\n",
       "    </tr>\n",
       "  </thead>\n",
       "  <tbody>\n",
       "    <tr>\n",
       "      <th>Congruent</th>\n",
       "      <td>1.00000</td>\n",
       "      <td>0.35182</td>\n",
       "    </tr>\n",
       "    <tr>\n",
       "      <th>Incongruent</th>\n",
       "      <td>0.35182</td>\n",
       "      <td>1.00000</td>\n",
       "    </tr>\n",
       "  </tbody>\n",
       "</table>\n",
       "</div>"
      ],
      "text/plain": [
       "             Congruent  Incongruent\n",
       "Congruent      1.00000      0.35182\n",
       "Incongruent    0.35182      1.00000"
      ]
     },
     "execution_count": 5,
     "metadata": {},
     "output_type": "execute_result"
    }
   ],
   "source": [
    "df.corr()"
   ]
  },
  {
   "cell_type": "markdown",
   "metadata": {},
   "source": [
    "### Q4. Provide one or two visualizations that show the distribution of the sample data. Write one or two sentences noting what you observe about the plot or plots.\n",
    "\n",
    "We'll start with a simple histogram of the two distributions:"
   ]
  },
  {
   "cell_type": "code",
   "execution_count": 6,
   "metadata": {
    "collapsed": false
   },
   "outputs": [
    {
     "data": {
      "image/png": "[encoded data removed]",
      "text/plain": [
       "<matplotlib.figure.Figure at 0x7f89cbed0b38>"
      ]
     },
     "metadata": {},
     "output_type": "display_data"
    }
   ],
   "source": [
    "import matplotlib\n",
    "import matplotlib.pyplot as plt\n",
    "%matplotlib inline\n",
    "matplotlib.style.use('ggplot')\n",
    "df['Congruent'].plot(kind='hist', alpha=1, bins=5, label='Congruent', legend=True, title=\"Stroop Task Histogram\");\n",
    "df['Incongruent'].plot(kind='hist', alpha=0.5, bins=5, label='Incongruent', legend=True);\n",
    "plt.xlabel(\"Response Time\");"
   ]
  },
  {
   "cell_type": "markdown",
   "metadata": {},
   "source": [
    "The Congruent task appears to have a positively skewed distribution, while the Incongruent is unclear - I would infer that the population might be either positively skewed or normal. All of the central tendency measures of the Incongruent task are greater than that of the Congruent task.\n",
    "\n",
    "We'll also look at the boxplot for the distributions:"
   ]
  },
  {
   "cell_type": "code",
   "execution_count": 9,
   "metadata": {
    "collapsed": false
   },
   "outputs": [
    {
     "data": {
      "image/png": "[encoded data removed]",
      "text/plain": [
       "<matplotlib.figure.Figure at 0x7f89c94bec88>"
      ]
     },
     "metadata": {},
     "output_type": "display_data"
    }
   ],
   "source": [
    "df.boxplot(return_type='axes');"
   ]
  },
  {
   "cell_type": "markdown",
   "metadata": {},
   "source": [
    "The boxplot shows that the Incongruent distrbution is closer to normal, save for the presence of outliers. "
   ]
  },
  {
   "cell_type": "markdown",
   "metadata": {},
   "source": [
    "### Q5. Now, perform the statistical test and report your results. What is your confidence level and your critical statistic value? Do you reject the null hypothesis or fail to reject it? Come to a conclusion in terms of the experiment task. Did the results match up with your expectations?\n",
    "\n",
    "Let's start by choosing CI at 95%, and $\\alpha$ = 0.05."
   ]
  },
  {
   "cell_type": "code",
   "execution_count": 19,
   "metadata": {
    "collapsed": false
   },
   "outputs": [
    {
     "name": "stdout",
     "output_type": "stream",
     "text": [
      "T-statistic is 8.02070694411\n",
      "dof is 23\n"
     ]
    }
   ],
   "source": [
    "df['diff'] = df['Incongruent'] - df['Congruent']\n",
    "xbar = df['diff'].mean()\n",
    "S = df['diff'].std()\n",
    "SEM = S / np.sqrt(df['diff'].count())\n",
    "t_stat = xbar / SEM\n",
    "print('T-statistic is', t_stat)\n",
    "print('dof is', df['diff'].count()-1)"
   ]
  },
  {
   "cell_type": "markdown",
   "metadata": {},
   "source": [
    "Using the <a href='https://s3.amazonaws.com/udacity-hosted-downloads/t-table.jpg'>table of t-values</a>, we see that the t-critical value for $\\alpha=0.05$ and $\\text{dof}=23$ is 1.714. The t-statistic exceeds this critical value, thus we reject the null hypothesis $H_0$, as expected! From this we conclude that, in terms of population means, $\\mu_I > \\mu_C$ - or in plain terms, on average it takes longer to perform the Incogruent test than it does the Congruent test."
   ]
  },
  {
   "cell_type": "markdown",
   "metadata": {},
   "source": [
    "### Q6. Optional: What do you think is responsible for the effects observed? Can you think of an alternative or similar task that would result in a similar effect? Some research about the problem will be helpful for thinking about these two questions!"
   ]
  },
  {
   "cell_type": "markdown",
   "metadata": {},
   "source": [
    "My personal belief is that the task of reading words is more \"neurologically available\" than is the recognition and articulation of colours. This isn't quite the same as the brain processing one faster than the other - but rather when presented with both, the former task dominates the mental resources. \n",
    "\n",
    "Tasks similar to the original Stroop test involve some sort of classification of an attribute which is simultaneously presented alongside a secondary attribute that in some way represents a different instance of the primary attribute. In the Stroop test, the primary attribute is the ink color, and the secondary attribute is a word representation of a different color.\n",
    "\n",
    "A variation therefore might be auditory: participants are subjected to a recording of the words \"high\" \"medium\" or \"low\" being spoken in 3 very distinct pitches, and asked to identify the pitch. "
   ]
  }
 ],
 "metadata": {
  "anaconda-cloud": {},
  "kernelspec": {
   "display_name": "Python [conda root]",
   "language": "python",
   "name": "conda-root-py"
  },
  "language_info": {
   "codemirror_mode": {
    "name": "ipython",
    "version": 3
   },
   "file_extension": ".py",
   "mimetype": "text/x-python",
   "name": "python",
   "nbconvert_exporter": "python",
   "pygments_lexer": "ipython3",
   "version": "3.5.2"
  }
 },
 "nbformat": 4,
 "nbformat_minor": 1
}
